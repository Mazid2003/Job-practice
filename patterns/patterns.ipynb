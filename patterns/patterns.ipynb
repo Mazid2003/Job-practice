{
 "cells": [
  {
   "cell_type": "markdown",
   "id": "8e2d9bba",
   "metadata": {},
   "source": [
    "# Patterns in Python\n"
   ]
  },
  {
   "cell_type": "code",
   "execution_count": 50,
   "id": "8e545932",
   "metadata": {},
   "outputs": [
    {
     "name": "stdout",
     "output_type": "stream",
     "text": [
      "*\n",
      "*\n",
      "*\n",
      "*\n",
      "*\n"
     ]
    }
   ],
   "source": [
    "n=5\n",
    "for i in range(n):\n",
    "    print(\"*\")\n",
    " "
   ]
  },
  {
   "cell_type": "code",
   "execution_count": 51,
   "id": "3430c683",
   "metadata": {},
   "outputs": [
    {
     "name": "stdout",
     "output_type": "stream",
     "text": [
      "*****\n",
      "*****\n",
      "*****\n",
      "*****\n",
      "*****\n"
     ]
    }
   ],
   "source": [
    "size=5\n",
    "for i in range(size):\n",
    "    print(\"*\"*size)"
   ]
  },
  {
   "cell_type": "code",
   "execution_count": 134,
   "id": "5a21529c",
   "metadata": {},
   "outputs": [
    {
     "name": "stdout",
     "output_type": "stream",
     "text": [
      "*\n",
      "**\n",
      "***\n",
      "****\n",
      "*****\n"
     ]
    }
   ],
   "source": [
    "size=5\n",
    "for i in range(1,size+1):\n",
    "    print(\"*\"*(i))"
   ]
  },
  {
   "cell_type": "code",
   "execution_count": 145,
   "id": "0b43193b",
   "metadata": {},
   "outputs": [
    {
     "name": "stdout",
     "output_type": "stream",
     "text": [
      "*****\n",
      "****\n",
      "***\n",
      "**\n",
      "*\n"
     ]
    }
   ],
   "source": [
    "size=5\n",
    "#for i in range(size,0,-1):\n",
    "    #print(\"*\"*(i))\n",
    "for i in range(size):    \n",
    "    print(\"*\"*(size-i))"
   ]
  },
  {
   "cell_type": "code",
   "execution_count": 157,
   "id": "e7d33bc5",
   "metadata": {},
   "outputs": [
    {
     "name": "stdout",
     "output_type": "stream",
     "text": [
      "*\n",
      "**\n",
      "***\n",
      "****\n",
      "*****\n",
      "****\n",
      "***\n",
      "**\n",
      "*\n",
      "\n"
     ]
    }
   ],
   "source": [
    "size=5\n",
    "for i in range(size):\n",
    "    print(\"*\"*(i+1))\n",
    "for i in range(size,0,-1):\n",
    "    print(\"*\"*(i-1))    \n",
    "#for i in range(size):\n",
    "    #print(\"*\"*(size-i-1))    "
   ]
  },
  {
   "cell_type": "code",
   "execution_count": 151,
   "id": "fac2b154",
   "metadata": {},
   "outputs": [
    {
     "name": "stdout",
     "output_type": "stream",
     "text": [
      "*****\n",
      "****\n",
      "***\n",
      "**\n",
      "*\n",
      "**\n",
      "***\n",
      "****\n",
      "*****\n"
     ]
    }
   ],
   "source": [
    "size=5\n",
    "for i in range(size,0,-1):\n",
    "    print(\"*\"*i)\n",
    "for i in range(2,size+1):\n",
    "    print(\"*\"*i)"
   ]
  },
  {
   "cell_type": "code",
   "execution_count": 66,
   "id": "4cf0e73e",
   "metadata": {},
   "outputs": [
    {
     "name": "stdout",
     "output_type": "stream",
     "text": [
      "     \n",
      "    *\n",
      "   **\n",
      "  ***\n",
      " ****\n",
      "*****\n"
     ]
    }
   ],
   "source": [
    "size=5\n",
    "for i in range(size+1):\n",
    "    print(\" \"*(size-i)+\"*\"*i)\n",
    "    \n"
   ]
  },
  {
   "cell_type": "code",
   "execution_count": 67,
   "id": "99a2743e",
   "metadata": {},
   "outputs": [
    {
     "name": "stdout",
     "output_type": "stream",
     "text": [
      "*****\n",
      " ****\n",
      "  ***\n",
      "   **\n",
      "    *\n"
     ]
    }
   ],
   "source": [
    "size=5\n",
    "for i in range(size,0,-1):\n",
    "    print(\" \"*(size-i)+\"*\"*i)\n",
    "    \n"
   ]
  },
  {
   "cell_type": "code",
   "execution_count": 137,
   "id": "d0be4452",
   "metadata": {},
   "outputs": [
    {
     "name": "stdout",
     "output_type": "stream",
     "text": [
      "     \n",
      "    *\n",
      "   **\n",
      "  ***\n",
      " ****\n",
      "*****\n",
      " ****\n",
      "  ***\n",
      "   **\n",
      "    *\n"
     ]
    }
   ],
   "source": [
    "size=5\n",
    "for i in range(size):\n",
    "    print(\" \"*(size-i)+\"*\"*i)\n",
    "for i in range(size,0,-1):\n",
    "    print(\" \"*(size-i)+\"*\"*i)    "
   ]
  },
  {
   "cell_type": "code",
   "execution_count": 206,
   "id": "6d490181",
   "metadata": {},
   "outputs": [
    {
     "name": "stdout",
     "output_type": "stream",
     "text": [
      "*****\n",
      " ****\n",
      "  ***\n",
      "   **\n",
      "    *\n",
      "   **\n",
      "  ***\n",
      " ****\n",
      "*****\n"
     ]
    }
   ],
   "source": [
    "size=5\n",
    "for i in range(size,0,-1):\n",
    "    print(\" \"*(size-i)+\"*\"*i)\n",
    "for i in range(2,size+1):\n",
    "    print(\" \"*(size-i)+\"*\"*i)"
   ]
  },
  {
   "cell_type": "code",
   "execution_count": 228,
   "id": "5c125f10",
   "metadata": {},
   "outputs": [
    {
     "name": "stdout",
     "output_type": "stream",
     "text": [
      "*        *\n",
      "**      **\n",
      "***    ***\n",
      "****  ****\n",
      "**********\n"
     ]
    }
   ],
   "source": [
    "size = 5\n",
    "\n",
    "for i in range(1, size + 1):\n",
    "    print(\"*\" * i, end=\"\")\n",
    "    spaces = 2 * (size - i)\n",
    "    print(\" \" * spaces, end=\"\")\n",
    "    print(\"*\" * i)\n",
    "    \n"
   ]
  },
  {
   "cell_type": "code",
   "execution_count": 225,
   "id": "126ff6f0",
   "metadata": {},
   "outputs": [
    {
     "name": "stdout",
     "output_type": "stream",
     "text": [
      "*          *\n",
      "**        **\n",
      "***      ***\n",
      "****    ****\n",
      "*****  *****\n",
      "****    ****\n",
      "***      ***\n",
      "**        **\n",
      "*          *\n"
     ]
    }
   ],
   "source": [
    "size = 5\n",
    "\n",
    "for i in range(1, size + 1):\n",
    "    print(\"*\" * i, end=\" \")\n",
    "    spaces = 2 * (size - i)\n",
    "    print(\" \" * spaces, end=\" \")\n",
    "    print(\"*\" * i)\n",
    "for i in range(size-1,0,-1):\n",
    "    print(\"*\" * i, end=\" \")\n",
    "    spaces = 2 * (size - i)\n",
    "    print(\" \" * spaces, end=\" \")\n",
    "    print(\"*\" * i)    "
   ]
  },
  {
   "cell_type": "code",
   "execution_count": 8,
   "id": "3a3b63b9",
   "metadata": {},
   "outputs": [
    {
     "name": "stdout",
     "output_type": "stream",
     "text": [
      "    * \n",
      "   * * \n",
      "  * * * \n",
      " * * * * \n",
      "* * * * * \n"
     ]
    }
   ],
   "source": [
    "size=5\n",
    "for i in range(1,size+1):\n",
    "    print(\" \"*(size-i)+\"* \"*i)"
   ]
  },
  {
   "cell_type": "code",
   "execution_count": 14,
   "id": "e43a1b56",
   "metadata": {},
   "outputs": [
    {
     "name": "stdout",
     "output_type": "stream",
     "text": [
      "* * * * * \n",
      " * * * * \n",
      "  * * * \n",
      "   * * \n",
      "    * \n"
     ]
    }
   ],
   "source": [
    "size=5\n",
    "for i in range(size,0,-1):\n",
    "    print(\" \"*(size-i)+\"* \"*i)"
   ]
  },
  {
   "cell_type": "code",
   "execution_count": 115,
   "id": "9719fd25",
   "metadata": {},
   "outputs": [
    {
     "name": "stdout",
     "output_type": "stream",
     "text": [
      "    * \n",
      "   * * \n",
      "  * * * \n",
      " * * * * \n",
      "* * * * * \n",
      " * * * *\n",
      "  * * *\n",
      "   * *\n",
      "    *\n",
      "    \n"
     ]
    }
   ],
   "source": [
    "size=5\n",
    "for i in range(1,size+1):\n",
    "    print(\" \"*(size-i)+\"* \"*i)\n",
    "for i in range(size,0,-1):\n",
    "    print(\" \"*(size-i)+\" *\"*(i-1))  "
   ]
  },
  {
   "cell_type": "code",
   "execution_count": 156,
   "id": "b44b022a",
   "metadata": {},
   "outputs": [
    {
     "name": "stdout",
     "output_type": "stream",
     "text": [
      "* * * * * \n",
      " * * * * \n",
      "  * * * \n",
      "   * * \n",
      "    * \n",
      "   * * \n",
      "  * * * \n",
      " * * * * \n",
      "* * * * * \n"
     ]
    }
   ],
   "source": [
    "size=5\n",
    "for i in range(size,0,-1):\n",
    "    print(\" \"*(size-i)+\"* \"*i)\n",
    "for i in range(2,size+1):\n",
    "     print(\" \"*(size-i)+\"* \"*i)\n"
   ]
  },
  {
   "cell_type": "code",
   "execution_count": 20,
   "id": "456501e5",
   "metadata": {},
   "outputs": [
    {
     "name": "stdout",
     "output_type": "stream",
     "text": [
      "    **\n",
      "   ****\n",
      "  ******\n",
      " ********\n",
      "**********\n"
     ]
    }
   ],
   "source": [
    "size=5\n",
    "for i in range(1,size+1):\n",
    "    print(\" \"*(size-i)+\"*\"*(2*i))"
   ]
  },
  {
   "cell_type": "code",
   "execution_count": 112,
   "id": "1d9ca446",
   "metadata": {},
   "outputs": [
    {
     "name": "stdout",
     "output_type": "stream",
     "text": [
      "**********\n",
      " ********\n",
      "  ******\n",
      "   ****\n",
      "    **\n"
     ]
    }
   ],
   "source": [
    "size=5\n",
    "for i in range(size,0,-1):\n",
    "    print(\" \"*(size-i)+\"*\"*(2*i))"
   ]
  },
  {
   "cell_type": "code",
   "execution_count": 124,
   "id": "50a24075",
   "metadata": {},
   "outputs": [
    {
     "name": "stdout",
     "output_type": "stream",
     "text": [
      "    **\n",
      "   ****\n",
      "  ******\n",
      " ********\n",
      "**********\n",
      " ********\n",
      "  ******\n",
      "   ****\n",
      "    **\n"
     ]
    }
   ],
   "source": [
    "size=5\n",
    "for i in range(1,size+1):\n",
    "    print(\" \"*(size-i)+\"*\"*(2*i))\n",
    "for i in range(size-1,0,-1):\n",
    "    print(\" \"*(size-i)+\"*\"*(2*i))    "
   ]
  },
  {
   "cell_type": "code",
   "execution_count": 162,
   "id": "833de4ac",
   "metadata": {},
   "outputs": [
    {
     "name": "stdout",
     "output_type": "stream",
     "text": [
      "**********\n",
      " ********\n",
      "  ******\n",
      "   ****\n",
      "    **\n",
      "   ****\n",
      "  ******\n",
      " ********\n",
      "**********\n"
     ]
    }
   ],
   "source": [
    "size=5\n",
    "for i in range(size,0,-1):\n",
    "    print(\" \"*(size-i)+\"*\"*(2*i))\n",
    "for i in range(2,size+1):\n",
    "    print(\" \"*(size-i)+\"*\"*(2*i))"
   ]
  },
  {
   "cell_type": "code",
   "execution_count": 21,
   "id": "c531385a",
   "metadata": {},
   "outputs": [
    {
     "name": "stdout",
     "output_type": "stream",
     "text": [
      "    *\n",
      "   ***\n",
      "  *****\n",
      " *******\n",
      "*********\n"
     ]
    }
   ],
   "source": [
    "size=5\n",
    "for i in range(1,size+1):\n",
    "    print(\" \"*(size-i)+\"*\"*(2*i-1))"
   ]
  },
  {
   "cell_type": "code",
   "execution_count": 125,
   "id": "11d0d7fb",
   "metadata": {},
   "outputs": [
    {
     "name": "stdout",
     "output_type": "stream",
     "text": [
      "*********\n",
      " *******\n",
      "  *****\n",
      "   ***\n",
      "    *\n"
     ]
    }
   ],
   "source": [
    "size=5\n",
    "for i in range(size,0,-1):\n",
    "    print(\" \"*(size-i)+\"*\"*(2*i-1))"
   ]
  },
  {
   "cell_type": "code",
   "execution_count": 130,
   "id": "700aa91e",
   "metadata": {},
   "outputs": [
    {
     "name": "stdout",
     "output_type": "stream",
     "text": [
      "    *\n",
      "   ***\n",
      "  *****\n",
      " *******\n",
      "*********\n",
      " *******\n",
      "  *****\n",
      "   ***\n",
      "    *\n"
     ]
    }
   ],
   "source": [
    "size=5\n",
    "for i in range(1,size+1):\n",
    "    print(\" \"*(size-i)+\"*\"*(2*i-1))\n",
    "for i in range(size-1,0,-1):\n",
    "    print(\" \"*(size-i)+\"*\"*(2*i-1))    "
   ]
  },
  {
   "cell_type": "code",
   "execution_count": 165,
   "id": "97ef6e53",
   "metadata": {},
   "outputs": [
    {
     "name": "stdout",
     "output_type": "stream",
     "text": [
      "*********\n",
      " *******\n",
      "  *****\n",
      "   ***\n",
      "    *\n",
      "   ***\n",
      "  *****\n",
      " *******\n",
      "*********\n"
     ]
    }
   ],
   "source": [
    "size=5\n",
    "for i in range(size,0,-1):\n",
    "    print(\" \"*(size-i)+\"*\"*(2*i-1))\n",
    "for i in range(2,size+1):\n",
    "    print(\" \"*(size-i)+\"*\"*(2*i-1))    "
   ]
  },
  {
   "cell_type": "code",
   "execution_count": 179,
   "id": "9ab3c212",
   "metadata": {},
   "outputs": [
    {
     "name": "stdout",
     "output_type": "stream",
     "text": [
      "     *\n",
      "    * *\n",
      "   *   *\n",
      "  *     *\n",
      " *       *\n"
     ]
    }
   ],
   "source": [
    "size=5\n",
    "for i in range(1,size+1):\n",
    "    print(\" \"*(size-i),end=\" \")\n",
    "    for j in range(1,2*i):\n",
    "        if j==1 or j==2*i-1:\n",
    "            print(\"*\",end=\"\")\n",
    "        else:\n",
    "            print(\" \",end=\"\")\n",
    "    print()        \n",
    "\n"
   ]
  },
  {
   "cell_type": "code",
   "execution_count": 180,
   "id": "c8e5266d",
   "metadata": {},
   "outputs": [
    {
     "name": "stdout",
     "output_type": "stream",
     "text": [
      " *       *\n",
      "  *     *\n",
      "   *   *\n",
      "    * *\n",
      "     *\n"
     ]
    }
   ],
   "source": [
    "size=5\n",
    "for i in range(size,0,-1):\n",
    "    print(\" \"*(size-i),end=\" \")\n",
    "    for j in range(1,2*i):\n",
    "        if j==1 or j==2*i-1:\n",
    "            print(\"*\",end=\"\")\n",
    "        else:\n",
    "            print(\" \",end=\"\")\n",
    "    print()        \n",
    "\n"
   ]
  },
  {
   "cell_type": "code",
   "execution_count": 184,
   "id": "a8e77232",
   "metadata": {},
   "outputs": [
    {
     "name": "stdout",
     "output_type": "stream",
     "text": [
      "     *\n",
      "    * *\n",
      "   *   *\n",
      "  *     *\n",
      " *       *\n",
      "  *     *\n",
      "   *   *\n",
      "    * *\n",
      "     *\n"
     ]
    }
   ],
   "source": [
    "size=5\n",
    "for i in range(1,size+1):\n",
    "    print(\" \"*(size-i),end=\" \")\n",
    "    for j in range(1,2*i):\n",
    "        if j==1 or j==2*i-1:\n",
    "            print(\"*\",end=\"\")\n",
    "        else:\n",
    "            print(\" \",end=\"\")\n",
    "    print()  \n",
    "for i in range(size-1,0,-1):\n",
    "    print(\" \"*(size-i),end=\" \")\n",
    "    for j in range(1,2*i):\n",
    "        if j==1 or j==2*i-1:\n",
    "            print(\"*\",end=\"\")\n",
    "        else:\n",
    "            print(\" \",end=\"\")\n",
    "    print()               "
   ]
  },
  {
   "cell_type": "code",
   "execution_count": 175,
   "id": "22c0f661",
   "metadata": {},
   "outputs": [
    {
     "name": "stdout",
     "output_type": "stream",
     "text": [
      "*       * \n",
      "  *   *   \n",
      "    *     \n",
      "  *   *   \n",
      "*       * \n"
     ]
    }
   ],
   "source": [
    "size=5\n",
    "for i in range(size):\n",
    "    for j in range(size):\n",
    "        if i==j or j==size-1-i:\n",
    "            print(\"*\",end=\" \")\n",
    "        else:\n",
    "            print(\" \",end=\" \")  \n",
    "    print()\n",
    "    \n",
    "    "
   ]
  },
  {
   "cell_type": "code",
   "execution_count": 110,
   "id": "7d00da07",
   "metadata": {},
   "outputs": [
    {
     "name": "stdout",
     "output_type": "stream",
     "text": [
      "X O X O X \n",
      "O X O X O \n",
      "X O X O X \n",
      "O X O X O \n",
      "X O X O X \n"
     ]
    }
   ],
   "source": [
    "size=5\n",
    "for i in range(1,size+1):\n",
    "    for j in range(1,size+1):\n",
    "        if ((i+j)%2==0):\n",
    "            print(\"X\",end=\" \")\n",
    "        else:\n",
    "            print(\"O\",end=\" \")\n",
    "    print()            "
   ]
  },
  {
   "cell_type": "code",
   "execution_count": 90,
   "id": "2be6db9a",
   "metadata": {},
   "outputs": [
    {
     "name": "stdout",
     "output_type": "stream",
     "text": [
      "* * * * * * \n",
      "*         * \n",
      "*         * \n",
      "*         * \n",
      "*         * \n",
      "* * * * * * \n"
     ]
    }
   ],
   "source": [
    "rows = 5\n",
    "# columns = 5\n",
    "\n",
    "for i in range(rows+1):\n",
    "    for j in range(rows+1):\n",
    "        if i == 0 or i==rows or j==0 or j==rows:\n",
    "            print(\"*\", end=\" \")\n",
    "        else:\n",
    "            print(\" \", end=\" \")\n",
    "    print()\n"
   ]
  },
  {
   "cell_type": "code",
   "execution_count": 194,
   "id": "7a583a8e",
   "metadata": {},
   "outputs": [
    {
     "name": "stdout",
     "output_type": "stream",
     "text": [
      "1 \n",
      "2 3 \n",
      "4 5 6 \n",
      "7 8 9 10 \n",
      "11 12 13 14 15 \n"
     ]
    }
   ],
   "source": [
    "size=5\n",
    "num=1\n",
    "for i in range(1,size+1):\n",
    "    for j in range(1,i+1):\n",
    "        print(num,end=\" \")\n",
    "        num+=1\n",
    "    print()    "
   ]
  },
  {
   "cell_type": "code",
   "execution_count": 195,
   "id": "142a8306",
   "metadata": {},
   "outputs": [
    {
     "name": "stdout",
     "output_type": "stream",
     "text": [
      "1 \n",
      "2 2 \n",
      "3 3 3 \n",
      "4 4 4 4 \n",
      "5 5 5 5 5 \n"
     ]
    }
   ],
   "source": [
    "size=5\n",
    "num=1\n",
    "for i in range(1,size+1):\n",
    "    for j in range(1,i+1):\n",
    "        print(i,end=\" \")\n",
    "        num+=1\n",
    "    print(\"\")    "
   ]
  },
  {
   "cell_type": "code",
   "execution_count": 196,
   "id": "97463b02",
   "metadata": {},
   "outputs": [
    {
     "name": "stdout",
     "output_type": "stream",
     "text": [
      "1 \n",
      "1 2 \n",
      "1 2 3 \n",
      "1 2 3 4 \n",
      "1 2 3 4 5 \n"
     ]
    }
   ],
   "source": [
    "size=5\n",
    "num=1\n",
    "for i in range(1,size+1):\n",
    "    for j in range(1,i+1):\n",
    "        print(j,end=\" \")\n",
    "        num+=1\n",
    "    print(\"\")    "
   ]
  },
  {
   "cell_type": "code",
   "execution_count": 200,
   "id": "b0a5d8e2",
   "metadata": {},
   "outputs": [
    {
     "name": "stdout",
     "output_type": "stream",
     "text": [
      "0 \n",
      "1 0 \n",
      "0 1 0 \n",
      "1 0 1 0 \n",
      "0 1 0 1 0 \n"
     ]
    }
   ],
   "source": [
    "size=5\n",
    "#num=1\n",
    "for i in range(1,size+1):\n",
    "    for j in range(1,i+1):\n",
    "        print((i+j)%2,end=\" \")\n",
    "            #num+=1\n",
    "\n",
    "    print(\"\")    "
   ]
  }
 ],
 "metadata": {
  "kernelspec": {
   "display_name": "Python 3",
   "language": "python",
   "name": "python3"
  },
  "language_info": {
   "codemirror_mode": {
    "name": "ipython",
    "version": 3
   },
   "file_extension": ".py",
   "mimetype": "text/x-python",
   "name": "python",
   "nbconvert_exporter": "python",
   "pygments_lexer": "ipython3",
   "version": "3.11.7"
  }
 },
 "nbformat": 4,
 "nbformat_minor": 5
}
