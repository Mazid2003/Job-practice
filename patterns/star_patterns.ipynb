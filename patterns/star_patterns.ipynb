{
 "cells": [
  {
   "cell_type": "markdown",
   "id": "312ca653",
   "metadata": {},
   "source": [
    "# Using * to print patterns in Python\n"
   ]
  },
  {
   "cell_type": "code",
   "execution_count": 1,
   "id": "d84a0946",
   "metadata": {},
   "outputs": [
    {
     "name": "stdout",
     "output_type": "stream",
     "text": [
      "*\n",
      "*\n",
      "*\n",
      "*\n",
      "*\n"
     ]
    }
   ],
   "source": [
    "\n",
    "n=5\n",
    "for i in range(n):\n",
    "    print(\"*\")\n"
   ]
  },
  {
   "cell_type": "code",
   "execution_count": 2,
   "id": "5c1e890c",
   "metadata": {},
   "outputs": [
    {
     "name": "stdout",
     "output_type": "stream",
     "text": [
      "*****\n",
      "*****\n",
      "*****\n",
      "*****\n",
      "*****\n"
     ]
    }
   ],
   "source": [
    " \n",
    "size=5\n",
    "for i in range(size):\n",
    "    print(\"*\"*size)\n"
   ]
  },
  {
   "cell_type": "code",
   "execution_count": 4,
   "id": "1527f793",
   "metadata": {},
   "outputs": [
    {
     "name": "stdout",
     "output_type": "stream",
     "text": [
      "*\n",
      "**\n",
      "***\n",
      "****\n",
      "*****\n"
     ]
    }
   ],
   "source": [
    "size=5\n",
    "for i in range(1,size+1):\n",
    "    print(\"*\"*(i))"
   ]
  },
  {
   "cell_type": "code",
   "execution_count": 5,
   "id": "eaac2bb5",
   "metadata": {},
   "outputs": [
    {
     "name": "stdout",
     "output_type": "stream",
     "text": [
      "*****\n",
      "****\n",
      "***\n",
      "**\n",
      "*\n"
     ]
    }
   ],
   "source": [
    "size=5\n",
    "#for i in range(size,0,-1):\n",
    "    #print(\"*\"*(i))\n",
    "for i in range(size):    \n",
    "    print(\"*\"*(size-i))"
   ]
  },
  {
   "cell_type": "code",
   "execution_count": 6,
   "id": "4f702fb2",
   "metadata": {},
   "outputs": [
    {
     "name": "stdout",
     "output_type": "stream",
     "text": [
      "*\n",
      "**\n",
      "***\n",
      "****\n",
      "*****\n",
      "****\n",
      "***\n",
      "**\n",
      "*\n",
      "\n"
     ]
    }
   ],
   "source": [
    "size=5\n",
    "for i in range(size):\n",
    "    print(\"*\"*(i+1))\n",
    "for i in range(size,0,-1):\n",
    "    print(\"*\"*(i-1))    \n",
    "#for i in range(size):\n",
    "    #print(\"*\"*(size-i-1)) "
   ]
  },
  {
   "cell_type": "code",
   "execution_count": 7,
   "id": "b393cfb3",
   "metadata": {},
   "outputs": [
    {
     "name": "stdout",
     "output_type": "stream",
     "text": [
      "*****\n",
      "****\n",
      "***\n",
      "**\n",
      "*\n",
      "**\n",
      "***\n",
      "****\n",
      "*****\n"
     ]
    }
   ],
   "source": [
    "size=5\n",
    "for i in range(size,0,-1):\n",
    "    print(\"*\"*i)\n",
    "for i in range(2,size+1):\n",
    "    print(\"*\"*i)"
   ]
  },
  {
   "cell_type": "code",
   "execution_count": 8,
   "id": "8afe85d5",
   "metadata": {},
   "outputs": [
    {
     "name": "stdout",
     "output_type": "stream",
     "text": [
      "     \n",
      "    *\n",
      "   **\n",
      "  ***\n",
      " ****\n",
      "*****\n"
     ]
    }
   ],
   "source": [
    "size=5\n",
    "for i in range(size+1):\n",
    "    print(\" \"*(size-i)+\"*\"*i)"
   ]
  },
  {
   "cell_type": "code",
   "execution_count": 10,
   "id": "89d8eefb",
   "metadata": {},
   "outputs": [
    {
     "name": "stdout",
     "output_type": "stream",
     "text": [
      "*****\n",
      " ****\n",
      "  ***\n",
      "   **\n",
      "    *\n"
     ]
    }
   ],
   "source": [
    "size=5\n",
    "for i in range(size,0,-1):\n",
    "    print(\" \"*(size-i)+\"*\"*i)"
   ]
  },
  {
   "cell_type": "code",
   "execution_count": 11,
   "id": "5197dd16",
   "metadata": {},
   "outputs": [
    {
     "name": "stdout",
     "output_type": "stream",
     "text": [
      "     \n",
      "    *\n",
      "   **\n",
      "  ***\n",
      " ****\n",
      "*****\n",
      " ****\n",
      "  ***\n",
      "   **\n",
      "    *\n"
     ]
    }
   ],
   "source": [
    "size=5\n",
    "for i in range(size):\n",
    "    print(\" \"*(size-i)+\"*\"*i)\n",
    "for i in range(size,0,-1):\n",
    "    print(\" \"*(size-i)+\"*\"*i)  "
   ]
  },
  {
   "cell_type": "code",
   "execution_count": 12,
   "id": "8505e001",
   "metadata": {},
   "outputs": [
    {
     "name": "stdout",
     "output_type": "stream",
     "text": [
      "*****\n",
      " ****\n",
      "  ***\n",
      "   **\n",
      "    *\n",
      "   **\n",
      "  ***\n",
      " ****\n",
      "*****\n"
     ]
    }
   ],
   "source": [
    "size=5\n",
    "for i in range(size,0,-1):\n",
    "    print(\" \"*(size-i)+\"*\"*i)\n",
    "for i in range(2,size+1):\n",
    "    print(\" \"*(size-i)+\"*\"*i)"
   ]
  },
  {
   "cell_type": "code",
   "execution_count": 13,
   "id": "73182385",
   "metadata": {},
   "outputs": [
    {
     "name": "stdout",
     "output_type": "stream",
     "text": [
      "*        *\n",
      "**      **\n",
      "***    ***\n",
      "****  ****\n",
      "**********\n"
     ]
    }
   ],
   "source": [
    "size = 5\n",
    "\n",
    "for i in range(1, size + 1):\n",
    "    print(\"*\" * i, end=\"\")\n",
    "    spaces = 2 * (size - i)\n",
    "    print(\" \" * spaces, end=\"\")\n",
    "    print(\"*\" * i)"
   ]
  },
  {
   "cell_type": "code",
   "execution_count": 32,
   "id": "5a664f9f",
   "metadata": {},
   "outputs": [
    {
     "name": "stdout",
     "output_type": "stream",
     "text": [
      "**********\n",
      "****  ****\n",
      "***    ***\n",
      "**      **\n",
      "*        *\n"
     ]
    }
   ],
   "source": [
    "size = 5\n",
    "\n",
    "for i in range(size,0,-1):\n",
    "    print(\"*\" * i, end=\"\")\n",
    "    spaces = 2 * (size - i)\n",
    "    print(\" \" * spaces, end=\"\")\n",
    "    print(\"*\" * i)"
   ]
  },
  {
   "cell_type": "code",
   "execution_count": 14,
   "id": "0d673688",
   "metadata": {},
   "outputs": [
    {
     "name": "stdout",
     "output_type": "stream",
     "text": [
      "*          *\n",
      "**        **\n",
      "***      ***\n",
      "****    ****\n",
      "*****  *****\n",
      "****    ****\n",
      "***      ***\n",
      "**        **\n",
      "*          *\n"
     ]
    }
   ],
   "source": [
    "size = 5\n",
    "\n",
    "for i in range(1, size + 1):\n",
    "    print(\"*\" * i, end=\" \")\n",
    "    spaces = 2 * (size - i)\n",
    "    print(\" \" * spaces, end=\" \")\n",
    "    print(\"*\" * i)\n",
    "for i in range(size-1,0,-1):\n",
    "    print(\"*\" * i, end=\" \")\n",
    "    spaces = 2 * (size - i)\n",
    "    print(\" \" * spaces, end=\" \")\n",
    "    print(\"*\" * i) "
   ]
  },
  {
   "cell_type": "code",
   "execution_count": 15,
   "id": "00e9de90",
   "metadata": {},
   "outputs": [
    {
     "name": "stdout",
     "output_type": "stream",
     "text": [
      "    * \n",
      "   * * \n",
      "  * * * \n",
      " * * * * \n",
      "* * * * * \n"
     ]
    }
   ],
   "source": [
    "size=5\n",
    "for i in range(1,size+1):\n",
    "    print(\" \"*(size-i)+\"* \"*i)"
   ]
  },
  {
   "cell_type": "code",
   "execution_count": 16,
   "id": "24334872",
   "metadata": {},
   "outputs": [
    {
     "name": "stdout",
     "output_type": "stream",
     "text": [
      "* * * * * \n",
      " * * * * \n",
      "  * * * \n",
      "   * * \n",
      "    * \n"
     ]
    }
   ],
   "source": [
    "size=5\n",
    "for i in range(size,0,-1):\n",
    "    print(\" \"*(size-i)+\"* \"*i)"
   ]
  },
  {
   "cell_type": "code",
   "execution_count": 20,
   "id": "364d8131",
   "metadata": {},
   "outputs": [
    {
     "name": "stdout",
     "output_type": "stream",
     "text": [
      "    * \n",
      "   * * \n",
      "  * * * \n",
      " * * * * \n",
      "* * * * * \n",
      " * * * * \n",
      "  * * * \n",
      "   * * \n",
      "    * \n"
     ]
    }
   ],
   "source": [
    "size=5\n",
    "for i in range(1,size+1):\n",
    "    print(\" \"*(size-i)+\"* \"*i)\n",
    "for i in range(size-1,0,-1):\n",
    "    print(\" \"*(size-i)+\"* \"*i)    "
   ]
  },
  {
   "cell_type": "code",
   "execution_count": 17,
   "id": "244f2793",
   "metadata": {},
   "outputs": [
    {
     "name": "stdout",
     "output_type": "stream",
     "text": [
      "* * * * * \n",
      " * * * * \n",
      "  * * * \n",
      "   * * \n",
      "    * \n",
      "   * * \n",
      "  * * * \n",
      " * * * * \n",
      "* * * * * \n"
     ]
    }
   ],
   "source": [
    "\n",
    "size=5\n",
    "for i in range(size,0,-1):\n",
    "    print(\" \"*(size-i)+\"* \"*i)\n",
    "for i in range(2,size+1):\n",
    "     print(\" \"*(size-i)+\"* \"*i)"
   ]
  },
  {
   "cell_type": "code",
   "execution_count": 21,
   "id": "8454adff",
   "metadata": {},
   "outputs": [
    {
     "name": "stdout",
     "output_type": "stream",
     "text": [
      "    **\n",
      "   ****\n",
      "  ******\n",
      " ********\n",
      "**********\n"
     ]
    }
   ],
   "source": [
    "size=5\n",
    "for i in range(1,size+1):\n",
    "    print(\" \"*(size-i)+\"*\"*(2*i))"
   ]
  },
  {
   "cell_type": "code",
   "execution_count": 22,
   "id": "631fef88",
   "metadata": {},
   "outputs": [
    {
     "name": "stdout",
     "output_type": "stream",
     "text": [
      "**********\n",
      " ********\n",
      "  ******\n",
      "   ****\n",
      "    **\n"
     ]
    }
   ],
   "source": [
    "size=5\n",
    "for i in range(size,0,-1):\n",
    "    print(\" \"*(size-i)+\"*\"*(2*i))"
   ]
  },
  {
   "cell_type": "code",
   "execution_count": 23,
   "id": "bbe1d387",
   "metadata": {},
   "outputs": [
    {
     "name": "stdout",
     "output_type": "stream",
     "text": [
      "    **\n",
      "   ****\n",
      "  ******\n",
      " ********\n",
      "**********\n",
      " ********\n",
      "  ******\n",
      "   ****\n",
      "    **\n"
     ]
    }
   ],
   "source": [
    "size=5\n",
    "for i in range(1,size+1):\n",
    "    print(\" \"*(size-i)+\"*\"*(2*i))\n",
    "for i in range(size-1,0,-1):\n",
    "    print(\" \"*(size-i)+\"*\"*(2*i))   "
   ]
  },
  {
   "cell_type": "code",
   "execution_count": 25,
   "id": "f8e44df4",
   "metadata": {},
   "outputs": [
    {
     "name": "stdout",
     "output_type": "stream",
     "text": [
      "**********\n",
      " ********\n",
      "  ******\n",
      "   ****\n",
      "    **\n",
      "   ****\n",
      "  ******\n",
      " ********\n",
      "**********\n"
     ]
    }
   ],
   "source": [
    "size=5\n",
    "for i in range(size,0,-1):\n",
    "    print(\" \"*(size-i)+\"*\"*(2*i))\n",
    "for i in range(2,size+1):\n",
    "    print(\" \"*(size-i)+\"*\"*(2*i))    "
   ]
  },
  {
   "cell_type": "code",
   "execution_count": 26,
   "id": "d033a7d5",
   "metadata": {},
   "outputs": [
    {
     "name": "stdout",
     "output_type": "stream",
     "text": [
      "    *\n",
      "   ***\n",
      "  *****\n",
      " *******\n",
      "*********\n"
     ]
    }
   ],
   "source": [
    "size=5\n",
    "for i in range(1,size+1):\n",
    "    print(\" \"*(size-i)+\"*\"*(2*i-1))"
   ]
  },
  {
   "cell_type": "code",
   "execution_count": 27,
   "id": "5e25b153",
   "metadata": {},
   "outputs": [
    {
     "name": "stdout",
     "output_type": "stream",
     "text": [
      "*********\n",
      " *******\n",
      "  *****\n",
      "   ***\n",
      "    *\n"
     ]
    }
   ],
   "source": [
    "size=5\n",
    "for i in range(size,0,-1):\n",
    "    print(\" \"*(size-i)+\"*\"*(2*i-1))"
   ]
  },
  {
   "cell_type": "code",
   "execution_count": 28,
   "id": "313e7ff3",
   "metadata": {},
   "outputs": [
    {
     "name": "stdout",
     "output_type": "stream",
     "text": [
      "    *\n",
      "   ***\n",
      "  *****\n",
      " *******\n",
      "*********\n",
      " *******\n",
      "  *****\n",
      "   ***\n",
      "    *\n"
     ]
    }
   ],
   "source": [
    "size=5\n",
    "for i in range(1,size+1):\n",
    "    print(\" \"*(size-i)+\"*\"*(2*i-1))\n",
    "for i in range(size-1,0,-1):\n",
    "    print(\" \"*(size-i)+\"*\"*(2*i-1))  "
   ]
  },
  {
   "cell_type": "code",
   "execution_count": 29,
   "id": "8c7a1b06",
   "metadata": {},
   "outputs": [
    {
     "name": "stdout",
     "output_type": "stream",
     "text": [
      "*********\n",
      " *******\n",
      "  *****\n",
      "   ***\n",
      "    *\n",
      "   ***\n",
      "  *****\n",
      " *******\n",
      "*********\n"
     ]
    }
   ],
   "source": [
    "size=5\n",
    "for i in range(size,0,-1):\n",
    "    print(\" \"*(size-i)+\"*\"*(2*i-1))\n",
    "for i in range(2,size+1):\n",
    "    print(\" \"*(size-i)+\"*\"*(2*i-1)) "
   ]
  }
 ],
 "metadata": {
  "kernelspec": {
   "display_name": "Python 3",
   "language": "python",
   "name": "python3"
  },
  "language_info": {
   "codemirror_mode": {
    "name": "ipython",
    "version": 3
   },
   "file_extension": ".py",
   "mimetype": "text/x-python",
   "name": "python",
   "nbconvert_exporter": "python",
   "pygments_lexer": "ipython3",
   "version": "3.11.7"
  }
 },
 "nbformat": 4,
 "nbformat_minor": 5
}
