{
 "cells": [
  {
   "cell_type": "markdown",
   "id": "8e2d9bba",
   "metadata": {},
   "source": [
    "# Patterns in Python\n"
   ]
  },
  {
   "cell_type": "code",
   "execution_count": 50,
   "id": "8e545932",
   "metadata": {},
   "outputs": [
    {
     "name": "stdout",
     "output_type": "stream",
     "text": [
      "*\n",
      "*\n",
      "*\n",
      "*\n",
      "*\n"
     ]
    }
   ],
   "source": [
    "n=5\n",
    "for i in range(n):\n",
    "    print(\"*\")\n",
    " "
   ]
  },
  {
   "cell_type": "code",
   "execution_count": 51,
   "id": "3430c683",
   "metadata": {},
   "outputs": [
    {
     "name": "stdout",
     "output_type": "stream",
     "text": [
      "*****\n",
      "*****\n",
      "*****\n",
      "*****\n",
      "*****\n"
     ]
    }
   ],
   "source": [
    "size=5\n",
    "for i in range(size):\n",
    "    print(\"*\"*size)"
   ]
  },
  {
   "cell_type": "code",
   "execution_count": 3,
   "id": "5a21529c",
   "metadata": {},
   "outputs": [
    {
     "name": "stdout",
     "output_type": "stream",
     "text": [
      "*\n",
      "**\n",
      "***\n",
      "****\n",
      "*****\n"
     ]
    }
   ],
   "source": [
    "size=5\n",
    "for i in range(size):\n",
    "    print(\"*\"*(i+1))"
   ]
  },
  {
   "cell_type": "code",
   "execution_count": 2,
   "id": "0b43193b",
   "metadata": {},
   "outputs": [
    {
     "name": "stdout",
     "output_type": "stream",
     "text": [
      "*****\n",
      "****\n",
      "***\n",
      "**\n",
      "*\n"
     ]
    }
   ],
   "source": [
    "size=5\n",
    "for i in range(size):\n",
    "    print(\"*\"*(size-i))"
   ]
  },
  {
   "cell_type": "code",
   "execution_count": 100,
   "id": "e7d33bc5",
   "metadata": {},
   "outputs": [
    {
     "name": "stdout",
     "output_type": "stream",
     "text": [
      "*\n",
      "**\n",
      "***\n",
      "****\n",
      "*****\n",
      "****\n",
      "***\n",
      "**\n",
      "*\n",
      "\n"
     ]
    }
   ],
   "source": [
    "size=5\n",
    "for i in range(size):\n",
    "    print(\"*\"*(i+1))\n",
    "for i in range(size):\n",
    "    print(\"*\"*(size-i-1))    "
   ]
  },
  {
   "cell_type": "code",
   "execution_count": 66,
   "id": "4cf0e73e",
   "metadata": {},
   "outputs": [
    {
     "name": "stdout",
     "output_type": "stream",
     "text": [
      "     \n",
      "    *\n",
      "   **\n",
      "  ***\n",
      " ****\n",
      "*****\n"
     ]
    }
   ],
   "source": [
    "size=5\n",
    "for i in range(size+1):\n",
    "    print(\" \"*(size-i)+\"*\"*i)\n",
    "    \n"
   ]
  },
  {
   "cell_type": "code",
   "execution_count": 67,
   "id": "99a2743e",
   "metadata": {},
   "outputs": [
    {
     "name": "stdout",
     "output_type": "stream",
     "text": [
      "*****\n",
      " ****\n",
      "  ***\n",
      "   **\n",
      "    *\n"
     ]
    }
   ],
   "source": [
    "size=5\n",
    "for i in range(size,0,-1):\n",
    "    print(\" \"*(size-i)+\"*\"*i)\n",
    "    \n"
   ]
  },
  {
   "cell_type": "code",
   "execution_count": 101,
   "id": "d0be4452",
   "metadata": {},
   "outputs": [
    {
     "name": "stdout",
     "output_type": "stream",
     "text": [
      "     \n",
      "    *\n",
      "   **\n",
      "  ***\n",
      " ****\n",
      "*****\n",
      " ****\n",
      "  ***\n",
      "   **\n",
      "    *\n"
     ]
    }
   ],
   "source": [
    "size=5\n",
    "for i in range(size):\n",
    "    print(\" \"*(size-i)+\"*\"*i)\n",
    "for i in range(size,0,-1):\n",
    "    print(\" \"*(size-i)+\"*\"*i)    "
   ]
  },
  {
   "cell_type": "code",
   "execution_count": 8,
   "id": "3a3b63b9",
   "metadata": {},
   "outputs": [
    {
     "name": "stdout",
     "output_type": "stream",
     "text": [
      "    * \n",
      "   * * \n",
      "  * * * \n",
      " * * * * \n",
      "* * * * * \n"
     ]
    }
   ],
   "source": [
    "size=5\n",
    "for i in range(1,size+1):\n",
    "    print(\" \"*(size-i)+\"* \"*i)"
   ]
  },
  {
   "cell_type": "code",
   "execution_count": 14,
   "id": "e43a1b56",
   "metadata": {},
   "outputs": [
    {
     "name": "stdout",
     "output_type": "stream",
     "text": [
      "* * * * * \n",
      " * * * * \n",
      "  * * * \n",
      "   * * \n",
      "    * \n"
     ]
    }
   ],
   "source": [
    "size=5\n",
    "for i in range(size,0,-1):\n",
    "    print(\" \"*(size-i)+\"* \"*i)"
   ]
  },
  {
   "cell_type": "code",
   "execution_count": 115,
   "id": "9719fd25",
   "metadata": {},
   "outputs": [
    {
     "name": "stdout",
     "output_type": "stream",
     "text": [
      "    * \n",
      "   * * \n",
      "  * * * \n",
      " * * * * \n",
      "* * * * * \n",
      " * * * *\n",
      "  * * *\n",
      "   * *\n",
      "    *\n",
      "    \n"
     ]
    }
   ],
   "source": [
    "size=5\n",
    "for i in range(1,size+1):\n",
    "    print(\" \"*(size-i)+\"* \"*i)\n",
    "for i in range(size,0,-1):\n",
    "    print(\" \"*(size-i)+\" *\"*(i-1))  "
   ]
  },
  {
   "cell_type": "code",
   "execution_count": 20,
   "id": "456501e5",
   "metadata": {},
   "outputs": [
    {
     "name": "stdout",
     "output_type": "stream",
     "text": [
      "    **\n",
      "   ****\n",
      "  ******\n",
      " ********\n",
      "**********\n"
     ]
    }
   ],
   "source": [
    "size=5\n",
    "for i in range(1,size+1):\n",
    "    print(\" \"*(size-i)+\"*\"*(2*i))"
   ]
  },
  {
   "cell_type": "code",
   "execution_count": 112,
   "id": "1d9ca446",
   "metadata": {},
   "outputs": [
    {
     "name": "stdout",
     "output_type": "stream",
     "text": [
      "**********\n",
      " ********\n",
      "  ******\n",
      "   ****\n",
      "    **\n"
     ]
    }
   ],
   "source": [
    "size=5\n",
    "for i in range(size,0,-1):\n",
    "    print(\" \"*(size-i)+\"*\"*(2*i))"
   ]
  },
  {
   "cell_type": "code",
   "execution_count": 124,
   "id": "50a24075",
   "metadata": {},
   "outputs": [
    {
     "name": "stdout",
     "output_type": "stream",
     "text": [
      "    **\n",
      "   ****\n",
      "  ******\n",
      " ********\n",
      "**********\n",
      " ********\n",
      "  ******\n",
      "   ****\n",
      "    **\n"
     ]
    }
   ],
   "source": [
    "size=5\n",
    "for i in range(1,size+1):\n",
    "    print(\" \"*(size-i)+\"*\"*(2*i))\n",
    "for i in range(size-1,0,-1):\n",
    "    print(\" \"*(size-i)+\"*\"*(2*i))    "
   ]
  },
  {
   "cell_type": "code",
   "execution_count": 21,
   "id": "c531385a",
   "metadata": {},
   "outputs": [
    {
     "name": "stdout",
     "output_type": "stream",
     "text": [
      "    *\n",
      "   ***\n",
      "  *****\n",
      " *******\n",
      "*********\n"
     ]
    }
   ],
   "source": [
    "size=5\n",
    "for i in range(1,size+1):\n",
    "    print(\" \"*(size-i)+\"*\"*(2*i-1))"
   ]
  },
  {
   "cell_type": "code",
   "execution_count": 125,
   "id": "11d0d7fb",
   "metadata": {},
   "outputs": [
    {
     "name": "stdout",
     "output_type": "stream",
     "text": [
      "*********\n",
      " *******\n",
      "  *****\n",
      "   ***\n",
      "    *\n"
     ]
    }
   ],
   "source": [
    "size=5\n",
    "for i in range(size,0,-1):\n",
    "    print(\" \"*(size-i)+\"*\"*(2*i-1))"
   ]
  },
  {
   "cell_type": "code",
   "execution_count": 130,
   "id": "700aa91e",
   "metadata": {},
   "outputs": [
    {
     "name": "stdout",
     "output_type": "stream",
     "text": [
      "    *\n",
      "   ***\n",
      "  *****\n",
      " *******\n",
      "*********\n",
      " *******\n",
      "  *****\n",
      "   ***\n",
      "    *\n"
     ]
    }
   ],
   "source": [
    "size=5\n",
    "for i in range(1,size+1):\n",
    "    print(\" \"*(size-i)+\"*\"*(2*i-1))\n",
    "for i in range(size-1,0,-1):\n",
    "    print(\" \"*(size-i)+\"*\"*(2*i-1))    "
   ]
  },
  {
   "cell_type": "code",
   "execution_count": 110,
   "id": "7d00da07",
   "metadata": {},
   "outputs": [
    {
     "name": "stdout",
     "output_type": "stream",
     "text": [
      "X O X O X \n",
      "O X O X O \n",
      "X O X O X \n",
      "O X O X O \n",
      "X O X O X \n"
     ]
    }
   ],
   "source": [
    "size=5\n",
    "for i in range(1,size+1):\n",
    "    for j in range(1,size+1):\n",
    "        if ((i+j)%2==0):\n",
    "            print(\"X\",end=\" \")\n",
    "        else:\n",
    "            print(\"O\",end=\" \")\n",
    "    print()            "
   ]
  },
  {
   "cell_type": "code",
   "execution_count": 90,
   "id": "2be6db9a",
   "metadata": {},
   "outputs": [
    {
     "name": "stdout",
     "output_type": "stream",
     "text": [
      "* * * * * * \n",
      "*         * \n",
      "*         * \n",
      "*         * \n",
      "*         * \n",
      "* * * * * * \n"
     ]
    }
   ],
   "source": [
    "rows = 5\n",
    "# columns = 5\n",
    "\n",
    "for i in range(rows+1):\n",
    "    for j in range(rows+1):\n",
    "        if i == 0 or i==rows or j==0 or j==rows:\n",
    "            print(\"*\", end=\" \")\n",
    "        else:\n",
    "            print(\" \", end=\" \")\n",
    "    print()\n"
   ]
  },
  {
   "cell_type": "code",
   "execution_count": null,
   "id": "7a583a8e",
   "metadata": {},
   "outputs": [],
   "source": []
  }
 ],
 "metadata": {
  "kernelspec": {
   "display_name": "Python 3",
   "language": "python",
   "name": "python3"
  },
  "language_info": {
   "codemirror_mode": {
    "name": "ipython",
    "version": 3
   },
   "file_extension": ".py",
   "mimetype": "text/x-python",
   "name": "python",
   "nbconvert_exporter": "python",
   "pygments_lexer": "ipython3",
   "version": "3.11.7"
  }
 },
 "nbformat": 4,
 "nbformat_minor": 5
}
