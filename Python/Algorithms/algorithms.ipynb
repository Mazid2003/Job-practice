{
 "cells": [
  {
   "cell_type": "markdown",
   "id": "90b6aa95",
   "metadata": {},
   "source": [
    "# Algorithms in Python\n"
   ]
  },
  {
   "cell_type": "markdown",
   "id": "8b213eda",
   "metadata": {},
   "source": [
    "### Linear Search:\n",
    "- Search for an element by checking each item one by one."
   ]
  },
  {
   "cell_type": "code",
   "execution_count": null,
   "id": "56dedbb2",
   "metadata": {},
   "outputs": [
    {
     "name": "stdout",
     "output_type": "stream",
     "text": [
      "Found at index 2\n"
     ]
    }
   ],
   "source": [
    "arr = [3, 5, 7, 9, 11] # If list is not sorted just sort it by using (list.sort()) \n",
    "target = 7\n",
    "for i in range(len(arr)):\n",
    "    if arr[i] == target:\n",
    "        print(f\"Found at index {i}\")  # Found at index 2"
   ]
  },
  {
   "cell_type": "markdown",
   "id": "6f6cee63",
   "metadata": {},
   "source": [
    "#### ✅ Best when the list is unsorted.\n",
    "\n",
    "- Time Complexity: O(n)\n",
    "- Space Complexity: O(1)"
   ]
  },
  {
   "cell_type": "markdown",
   "id": "e12d0044",
   "metadata": {},
   "source": [
    "### Binary Search\n",
    "- Search a sorted array by repeatedly dividing the search space in half."
   ]
  },
  {
   "cell_type": "code",
   "execution_count": 3,
   "id": "e08d15b8",
   "metadata": {},
   "outputs": [
    {
     "name": "stdout",
     "output_type": "stream",
     "text": [
      "Found at index 2\n"
     ]
    }
   ],
   "source": [
    "arr = [2, 4, 6, 8, 10]\n",
    "target = 6\n",
    "low, high = 0, len(arr)-1\n",
    "while low <= high:\n",
    "    mid = (low + high) // 2\n",
    "    if arr[mid] == target:\n",
    "        print(f\"Found at index {mid}\")  # Found at index 2\n",
    "        break\n",
    "    elif arr[mid] < target:\n",
    "        low = mid + 1\n",
    "    else:\n",
    "        high = mid - 1"
   ]
  },
  {
   "cell_type": "markdown",
   "id": "479242b8",
   "metadata": {},
   "source": [
    "✅ Much faster than linear search on sorted data\n",
    "\n",
    "- Time Complexity: O(logn)\n",
    "- Space Complexity: O(1)"
   ]
  },
  {
   "cell_type": "markdown",
   "id": "04272bea",
   "metadata": {},
   "source": [
    " ### Bubble Sort\n",
    "- Repeatedly swap adjacent elements if they are in the wrong order.\n",
    "\n"
   ]
  },
  {
   "cell_type": "code",
   "execution_count": 4,
   "id": "df0e8b28",
   "metadata": {},
   "outputs": [
    {
     "name": "stdout",
     "output_type": "stream",
     "text": [
      "[3, 4, 5, 8]\n"
     ]
    }
   ],
   "source": [
    "arr = [5, 3, 8, 4]\n",
    "for i in range(len(arr)):\n",
    "    for j in range(0, len(arr)-i-1):\n",
    "        if arr[j] > arr[j+1]:\n",
    "            arr[j], arr[j+1] = arr[j+1], arr[j]\n",
    "print(arr)  # [3, 4, 5, 8]"
   ]
  },
  {
   "cell_type": "markdown",
   "id": "5eccd47b",
   "metadata": {},
   "source": [
    "✅ Simple but inefficient for large lists.\n",
    "\n",
    "- Time Complexity: O(n^2)\n",
    "- Space Complexity: O(1)"
   ]
  },
  {
   "cell_type": "markdown",
   "id": "e6a4f801",
   "metadata": {},
   "source": [
    "### Selection Sort\n",
    "- Select the minimum element and put it at the beginning."
   ]
  },
  {
   "cell_type": "code",
   "execution_count": 5,
   "id": "baf8714f",
   "metadata": {},
   "outputs": [
    {
     "name": "stdout",
     "output_type": "stream",
     "text": [
      "[11, 12, 22, 25, 64]\n"
     ]
    }
   ],
   "source": [
    "arr = [64, 25, 12, 22, 11]\n",
    "for i in range(len(arr)):\n",
    "    min_idx = i\n",
    "    for j in range(i+1, len(arr)):\n",
    "        if arr[j] < arr[min_idx]:\n",
    "            min_idx = j\n",
    "    arr[i], arr[min_idx] = arr[min_idx], arr[i]\n",
    "print(arr)  # [11, 12, 22, 25, 64]\n"
   ]
  },
  {
   "cell_type": "markdown",
   "id": "c6bb1041",
   "metadata": {},
   "source": [
    "✅ Easy to understand, but not efficient (O(n²)).\n",
    "\n",
    "- Time Complexity: O(n^2)\n",
    "- Space Complexity: O(1)"
   ]
  },
  {
   "cell_type": "markdown",
   "id": "bd50de99",
   "metadata": {},
   "source": [
    "### Insertion Sort\n",
    "- Build the sorted array one item at a time.\n"
   ]
  },
  {
   "cell_type": "code",
   "execution_count": 6,
   "id": "15b41b4c",
   "metadata": {},
   "outputs": [
    {
     "name": "stdout",
     "output_type": "stream",
     "text": [
      "[5, 6, 11, 12, 13]\n"
     ]
    }
   ],
   "source": [
    "arr = [12, 11, 13, 5, 6]\n",
    "for i in range(1, len(arr)):\n",
    "    key = arr[i]\n",
    "    j = i-1\n",
    "    while j >= 0 and key < arr[j]:\n",
    "        arr[j+1] = arr[j]\n",
    "        j -= 1\n",
    "    arr[j+1] = key\n",
    "print(arr)  # [5, 6, 11, 12, 13]\n"
   ]
  },
  {
   "cell_type": "markdown",
   "id": "0ff6c43c",
   "metadata": {},
   "source": [
    "✅ Works well for small or nearly sorted data.\n",
    "\n",
    "- Time Complexity: O(n^2)\n",
    "- Space Complexity: O(1)"
   ]
  },
  {
   "cell_type": "markdown",
   "id": "e4756ff6",
   "metadata": {},
   "source": [
    "### Merge Sort\n",
    "- Divide the array in halves, sort them recursively, and merge.\n"
   ]
  },
  {
   "cell_type": "code",
   "execution_count": 7,
   "id": "4a792683",
   "metadata": {},
   "outputs": [
    {
     "name": "stdout",
     "output_type": "stream",
     "text": [
      "[5, 6, 7, 11, 12, 13]\n"
     ]
    }
   ],
   "source": [
    "def merge_sort(arr):\n",
    "    if len(arr) > 1:\n",
    "        mid = len(arr) // 2\n",
    "        L = arr[:mid]\n",
    "        R = arr[mid:]\n",
    "        merge_sort(L)\n",
    "        merge_sort(R)\n",
    "        i = j = k = 0\n",
    "        while i < len(L) and j < len(R):\n",
    "            if L[i] < R[j]:\n",
    "                arr[k] = L[i]\n",
    "                i += 1\n",
    "            else:\n",
    "                arr[k] = R[j]\n",
    "                j += 1\n",
    "            k += 1\n",
    "        while i < len(L):\n",
    "            arr[k] = L[i]\n",
    "            i += 1\n",
    "            k += 1\n",
    "        while j < len(R):\n",
    "            arr[k] = R[j]\n",
    "            j += 1\n",
    "            k += 1\n",
    "arr = [12, 11, 13, 5, 6, 7]\n",
    "merge_sort(arr)\n",
    "print(arr)  # [5, 6, 7, 11, 12, 13]\n"
   ]
  },
  {
   "cell_type": "markdown",
   "id": "e97c6f23",
   "metadata": {},
   "source": [
    "✅ Time: O(n log n), good for large datasets.\n",
    "\n",
    "- Time Complexity: O(nlogn)\n",
    "- Space Complexity: O(n)"
   ]
  },
  {
   "cell_type": "markdown",
   "id": "393a645d",
   "metadata": {},
   "source": [
    "### Quick Sort\n",
    "- Pick a pivot, partition array so smaller elements go left and larger right, then sort partitions.\n"
   ]
  },
  {
   "cell_type": "code",
   "execution_count": 8,
   "id": "3019ea85",
   "metadata": {},
   "outputs": [
    {
     "name": "stdout",
     "output_type": "stream",
     "text": [
      "[1, 5, 7, 8, 9, 10]\n"
     ]
    }
   ],
   "source": [
    "def quick_sort(arr):\n",
    "    if len(arr) <= 1:\n",
    "        return arr\n",
    "    else:\n",
    "        pivot = arr[0]\n",
    "        less = [x for x in arr[1:] if x <= pivot]\n",
    "        greater = [x for x in arr[1:] if x > pivot]\n",
    "        return quick_sort(less) + [pivot] + quick_sort(greater)\n",
    "arr = [10, 7, 8, 9, 1, 5]\n",
    "print(quick_sort(arr))  # [1, 5, 7, 8, 9, 10]\n"
   ]
  },
  {
   "cell_type": "markdown",
   "id": "042b0dc0",
   "metadata": {},
   "source": [
    "✅ Fast on average: O(n log n)\n",
    "\n",
    "- Time Complexity: O(nlogn) avg, O(n^2) Worst\n",
    "- Space Complexity: O(logn)"
   ]
  },
  {
   "cell_type": "markdown",
   "id": "04233668",
   "metadata": {},
   "source": [
    "### Two Pointers Technique\n",
    "- Use two pointers to iterate through data for optimized solutions.\n"
   ]
  },
  {
   "cell_type": "code",
   "execution_count": 11,
   "id": "833b7a6b",
   "metadata": {},
   "outputs": [
    {
     "name": "stdout",
     "output_type": "stream",
     "text": [
      "2 4\n"
     ]
    }
   ],
   "source": [
    "#Find pair of the target sum\n",
    "arr = [1, 2, 3, 4, 6]\n",
    "target = 6\n",
    "l, r = 0, len(arr)-1\n",
    "while l < r:\n",
    "    s = arr[l] + arr[r]\n",
    "    if s == target:\n",
    "        print(arr[l], arr[r])  # 2 4\n",
    "        break\n",
    "    elif s < target:\n",
    "        l += 1\n",
    "    else:\n",
    "        r -= 1\n"
   ]
  },
  {
   "cell_type": "markdown",
   "id": "6b2265f0",
   "metadata": {},
   "source": [
    "✅ Works on sorted arrays.\n",
    "\n",
    "- Time Complexity: O(n)\n",
    "- Space Complexity: O(1)"
   ]
  },
  {
   "cell_type": "markdown",
   "id": "661edf03",
   "metadata": {},
   "source": [
    "### Sliding Window Technique\n",
    "- Maintain a window (subset) and slide it across to solve problems efficiently.\n",
    "\n"
   ]
  },
  {
   "cell_type": "code",
   "execution_count": null,
   "id": "b49af0c9",
   "metadata": {},
   "outputs": [
    {
     "name": "stdout",
     "output_type": "stream",
     "text": [
      "36\n"
     ]
    }
   ],
   "source": [
    "#📌 Example: Max sum of subarray of size 3\n",
    "\n",
    "arr = [1, 4, 2, 10, 23, 3, 1, 0, 20]\n",
    "k = 3\n",
    "window_sum = sum(arr[:k])\n",
    "max_sum = window_sum\n",
    "for i in range(len(arr)-k):\n",
    "    window_sum = window_sum - arr[i] + arr[i+k]\n",
    "    max_sum = max(max_sum, window_sum)\n",
    "print(max_sum)  # 36\n"
   ]
  },
  {
   "cell_type": "markdown",
   "id": "a5a1b0d2",
   "metadata": {},
   "source": [
    "✅ Reduces time complexity for subarray problems.\n",
    "\n",
    "- Time Complexity: O(n)\n",
    "- Space Complexity: O(1)"
   ]
  },
  {
   "cell_type": "markdown",
   "id": "307aadf2",
   "metadata": {},
   "source": [
    "### Kadane’s Algorithm\n",
    "- Find maximum subarray sum (contiguous).\n"
   ]
  },
  {
   "cell_type": "code",
   "execution_count": 12,
   "id": "c5fd0ce6",
   "metadata": {},
   "outputs": [
    {
     "name": "stdout",
     "output_type": "stream",
     "text": [
      "6\n"
     ]
    }
   ],
   "source": [
    "arr = [-2,1,-3,4,-1,2,1,-5,4]\n",
    "max_sum = curr_sum = arr[0]\n",
    "for num in arr[1:]:\n",
    "    curr_sum = max(num, curr_sum + num)\n",
    "    max_sum = max(max_sum, curr_sum)\n",
    "print(max_sum)  # 6\n"
   ]
  },
  {
   "cell_type": "markdown",
   "id": "688f0ee2",
   "metadata": {},
   "source": [
    "✅ O(n) time, great for max subarray problems.\n",
    "\n",
    "- Time Complexity: O(n)\n",
    "- Space Complexity: O(1)"
   ]
  },
  {
   "cell_type": "markdown",
   "id": "7c5ab497",
   "metadata": {},
   "source": [
    "### Prefix Sum and Difference Arrays\n",
    "- Precompute cumulative sums for fast range queries.\n"
   ]
  },
  {
   "cell_type": "code",
   "execution_count": 13,
   "id": "757dcaf6",
   "metadata": {},
   "outputs": [
    {
     "name": "stdout",
     "output_type": "stream",
     "text": [
      "9\n"
     ]
    }
   ],
   "source": [
    "\n",
    "arr = [1, 2, 3, 4, 5]\n",
    "prefix = [0] * (len(arr)+1)\n",
    "for i in range(len(arr)):\n",
    "    prefix[i+1] = prefix[i] + arr[i]\n",
    "# Sum from index 1 to 3 (2 + 3 + 4)\n",
    "print(prefix[4] - prefix[1])  # 9\n"
   ]
  },
  {
   "cell_type": "markdown",
   "id": "369967c0",
   "metadata": {},
   "source": [
    "✅ Efficient for range sum queries.\n",
    "\n",
    "- Time Complexity: O(n) preprocessing, O(1) query\n",
    "- Space Complexity: O(n)"
   ]
  },
  {
   "cell_type": "markdown",
   "id": "4c97658d",
   "metadata": {},
   "source": [
    "### Flood Fill Algorithm (DFS/BFS for grid problems)\n",
    "- Fill connected region in a matrix/grid (like paint bucket tool).\n",
    "\n"
   ]
  },
  {
   "cell_type": "code",
   "execution_count": 16,
   "id": "932b9b76",
   "metadata": {},
   "outputs": [
    {
     "name": "stdout",
     "output_type": "stream",
     "text": [
      "[[2, 2, 2], [2, 2, 0], [2, 0, 1]]\n"
     ]
    }
   ],
   "source": [
    "def flood_fill(grid, r, c, new_color, orig_color):\n",
    "    if (r < 0 or c < 0 or r >= len(grid) or c >= len(grid[0]) or grid[r][c] != orig_color):\n",
    "        return\n",
    "    grid[r][c] = new_color\n",
    "    flood_fill(grid, r+1, c, new_color, orig_color)\n",
    "    flood_fill(grid, r-1, c, new_color, orig_color)\n",
    "    flood_fill(grid, r, c+1, new_color, orig_color)\n",
    "    flood_fill(grid, r, c-1, new_color, orig_color)\n",
    "\n",
    "grid = [\n",
    "    [1,1,1],\n",
    "    [1,1,0],\n",
    "    [1,0,1]\n",
    "]\n",
    "flood_fill(grid, 1, 1, 2, grid[1][1])\n",
    "print(grid)  # [[2,2,2],[2,2,0],[2,0,1]]\n"
   ]
  },
  {
   "cell_type": "markdown",
   "id": "756f2ca9",
   "metadata": {},
   "source": [
    "- Time Complexity: O(m x n)\n",
    "- Space Complexity: O(m x n)"
   ]
  }
 ],
 "metadata": {
  "kernelspec": {
   "display_name": "Python 3",
   "language": "python",
   "name": "python3"
  },
  "language_info": {
   "codemirror_mode": {
    "name": "ipython",
    "version": 3
   },
   "file_extension": ".py",
   "mimetype": "text/x-python",
   "name": "python",
   "nbconvert_exporter": "python",
   "pygments_lexer": "ipython3",
   "version": "3.11.7"
  }
 },
 "nbformat": 4,
 "nbformat_minor": 5
}
