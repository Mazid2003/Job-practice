{
 "cells": [
  {
   "cell_type": "markdown",
   "id": "421f13ed",
   "metadata": {},
   "source": [
    "# Patterns with 0's and 1's in Python"
   ]
  },
  {
   "cell_type": "code",
   "execution_count": 2,
   "id": "a45b93a9",
   "metadata": {},
   "outputs": [
    {
     "name": "stdout",
     "output_type": "stream",
     "text": [
      "1 O 1 O 1 \n",
      "O 1 O 1 O \n",
      "1 O 1 O 1 \n",
      "O 1 O 1 O \n",
      "1 O 1 O 1 \n"
     ]
    }
   ],
   "source": [
    "size=5\n",
    "for i in range(1,size+1):\n",
    "    for j in range(1,size+1):\n",
    "        if ((i+j)%2==0):\n",
    "            print(\"1\",end=\" \")\n",
    "        else:\n",
    "            print(\"O\",end=\" \")\n",
    "    print()  "
   ]
  },
  {
   "cell_type": "code",
   "execution_count": 15,
   "id": "9333814a",
   "metadata": {},
   "outputs": [
    {
     "name": "stdout",
     "output_type": "stream",
     "text": [
      "0 \n",
      "1 0 \n",
      "0 1 0 \n",
      "1 0 1 0 \n",
      "0 1 0 1 0 \n"
     ]
    }
   ],
   "source": [
    "size=5\n",
    "for i in range(1,size+1):\n",
    "    for j in range(1,i+1):\n",
    "        print((i+j)%2,end=\" \")\n",
    "    print()   "
   ]
  },
  {
   "cell_type": "code",
   "execution_count": 14,
   "id": "435b8410",
   "metadata": {},
   "outputs": [
    {
     "name": "stdout",
     "output_type": "stream",
     "text": [
      "0 1 0 1 0 \n",
      "1 0 1 0 \n",
      "0 1 0 \n",
      "1 0 \n",
      "0 \n"
     ]
    }
   ],
   "source": [
    "size=5\n",
    "for i in range(size,0,-1):\n",
    "    for j in range(1,i+1):\n",
    "        print((i+j)%2,end=\" \")\n",
    "    print()  "
   ]
  },
  {
   "cell_type": "code",
   "execution_count": 18,
   "id": "73549100",
   "metadata": {},
   "outputs": [
    {
     "name": "stdout",
     "output_type": "stream",
     "text": [
      "0 \n",
      "1 0 \n",
      "0 1 0 \n",
      "1 0 1 0 \n",
      "0 1 0 1 0 \n",
      "1 0 1 0 \n",
      "0 1 0 \n",
      "1 0 \n",
      "0 \n"
     ]
    }
   ],
   "source": [
    "size=5\n",
    "for i in range(1,size+1):\n",
    "    for j in range(1,i+1):\n",
    "        print((i+j)%2,end=\" \")\n",
    "    print()  \n",
    "for i in range(size-1,0,-1):\n",
    "    for j in range(1,i+1):\n",
    "        print((i+j)%2,end=\" \")\n",
    "    print()          "
   ]
  },
  {
   "cell_type": "code",
   "execution_count": 20,
   "id": "7b671c4a",
   "metadata": {},
   "outputs": [
    {
     "name": "stdout",
     "output_type": "stream",
     "text": [
      "0 1 0 1 0 \n",
      "1 0 1 0 \n",
      "0 1 0 \n",
      "1 0 \n",
      "0 \n",
      "1 0 \n",
      "0 1 0 \n",
      "1 0 1 0 \n",
      "0 1 0 1 0 \n"
     ]
    }
   ],
   "source": [
    "size=5\n",
    "for i in range(size,0,-1):\n",
    "    for j in range(1,i+1):\n",
    "        print((i+j)%2,end=\" \")\n",
    "    print()\n",
    "for i in range(2,size+1):\n",
    "    for j in range(1,i+1):\n",
    "        print((i+j)%2,end=\" \")\n",
    "    print()    "
   ]
  },
  {
   "cell_type": "code",
   "execution_count": 21,
   "id": "6d987a1e",
   "metadata": {},
   "outputs": [
    {
     "name": "stdout",
     "output_type": "stream",
     "text": [
      "         0 \n",
      "       1 0 \n",
      "     0 1 0 \n",
      "   1 0 1 0 \n",
      " 0 1 0 1 0 \n"
     ]
    }
   ],
   "source": [
    "size=5\n",
    "for i in range(1,size+1):\n",
    "    print(\"  \"*(size-i),end=\" \") #double space  at beginning\n",
    "    for j in range(1,i+1):\n",
    "        print((i+j)%2,end=\" \")\n",
    "    print()"
   ]
  },
  {
   "cell_type": "code",
   "execution_count": 22,
   "id": "66f63f5c",
   "metadata": {},
   "outputs": [
    {
     "name": "stdout",
     "output_type": "stream",
     "text": [
      " 0 1 0 1 0 \n",
      "   1 0 1 0 \n",
      "     0 1 0 \n",
      "       1 0 \n",
      "         0 \n"
     ]
    }
   ],
   "source": [
    "size=5\n",
    "for i in range(size,0,-1):\n",
    "    print(\"  \"*(size-i),end=\" \") #double space  at beginning\n",
    "    for j in range(1,i+1):\n",
    "        print((i+j)%2,end=\" \")\n",
    "    print()"
   ]
  },
  {
   "cell_type": "code",
   "execution_count": 24,
   "id": "53aa51f7",
   "metadata": {},
   "outputs": [
    {
     "name": "stdout",
     "output_type": "stream",
     "text": [
      "         0 \n",
      "       1 0 \n",
      "     0 1 0 \n",
      "   1 0 1 0 \n",
      " 0 1 0 1 0 \n",
      "   1 0 1 0 \n",
      "     0 1 0 \n",
      "       1 0 \n",
      "         0 \n"
     ]
    }
   ],
   "source": [
    "size=5\n",
    "for i in range(1,size+1):\n",
    "    print(\"  \"*(size-i),end=\" \") #double space  at beginning\n",
    "    for j in range(1,i+1):\n",
    "        print((i+j)%2,end=\" \")\n",
    "    print()\n",
    "for i in range(size-1,0,-1):\n",
    "    print(\"  \"*(size-i),end=\" \") #double space  at beginning\n",
    "    for j in range(1,i+1):\n",
    "        print((i+j)%2,end=\" \")\n",
    "    print()    "
   ]
  },
  {
   "cell_type": "code",
   "execution_count": 27,
   "id": "8fb40e73",
   "metadata": {},
   "outputs": [
    {
     "name": "stdout",
     "output_type": "stream",
     "text": [
      " 0 1 0 1 0 \n",
      "   1 0 1 0 \n",
      "     0 1 0 \n",
      "       1 0 \n",
      "         0 \n",
      "       1 0 \n",
      "     0 1 0 \n",
      "   1 0 1 0 \n",
      " 0 1 0 1 0 \n"
     ]
    }
   ],
   "source": [
    "size=5\n",
    "for i in range(size,0,-1):\n",
    "    print(\"  \"*(size-i),end=\" \") #double space  at beginning\n",
    "    for j in range(1,i+1):\n",
    "        print((i+j)%2,end=\" \")\n",
    "    print()\n",
    "for i in range(2,size+1):\n",
    "    print(\"  \"*(size-i),end=\" \") #double space  at beginning\n",
    "    for j in range(1,i+1):\n",
    "        print((i+j)%2,end=\" \")\n",
    "    print()    "
   ]
  },
  {
   "cell_type": "code",
   "execution_count": 28,
   "id": "e7d7a714",
   "metadata": {},
   "outputs": [
    {
     "name": "stdout",
     "output_type": "stream",
     "text": [
      "     0 \n",
      "    1 0 \n",
      "   0 1 0 \n",
      "  1 0 1 0 \n",
      " 0 1 0 1 0 \n"
     ]
    }
   ],
   "source": [
    "size=5\n",
    "for i in range(1,size+1):\n",
    "    print(\" \"*(size-i),end=\" \") #single space  at beginning\n",
    "    for j in range(1,i+1):\n",
    "        print((i+j)%2,end=\" \")\n",
    "    print()"
   ]
  },
  {
   "cell_type": "code",
   "execution_count": 29,
   "id": "bdd6c6e0",
   "metadata": {},
   "outputs": [
    {
     "name": "stdout",
     "output_type": "stream",
     "text": [
      " 0 1 0 1 0 \n",
      "  1 0 1 0 \n",
      "   0 1 0 \n",
      "    1 0 \n",
      "     0 \n"
     ]
    }
   ],
   "source": [
    "size=5\n",
    "for i in range(size,0,-1):\n",
    "    print(\" \"*(size-i),end=\" \") #single space  at beginning\n",
    "    for j in range(1,i+1):\n",
    "        print((i+j)%2,end=\" \")\n",
    "    print()"
   ]
  },
  {
   "cell_type": "code",
   "execution_count": 31,
   "id": "ee0cb013",
   "metadata": {},
   "outputs": [
    {
     "name": "stdout",
     "output_type": "stream",
     "text": [
      "     0 \n",
      "    1 0 \n",
      "   0 1 0 \n",
      "  1 0 1 0 \n",
      " 0 1 0 1 0 \n",
      "  1 0 1 0  \n",
      "   0 1 0  \n",
      "    1 0  \n",
      "     0  \n"
     ]
    }
   ],
   "source": [
    "size=5\n",
    "for i in range(1,size+1):\n",
    "    print(\" \"*(size-i),end=\" \") #single space  at beginning\n",
    "    for j in range(1,i+1):\n",
    "        print((i+j)%2,end=\" \")\n",
    "    print()\n",
    "for i in range(size-1,0,-1):\n",
    "    print(\" \"*(size-i),end=\" \") #single space  at beginning\n",
    "    for j in range(1,i+1):\n",
    "        print((i+j)%2,end=\" \")\n",
    "    print(\" \")    "
   ]
  },
  {
   "cell_type": "code",
   "execution_count": 33,
   "id": "6be756ac",
   "metadata": {},
   "outputs": [
    {
     "name": "stdout",
     "output_type": "stream",
     "text": [
      " 0 1 0 1 0 \n",
      "  1 0 1 0 \n",
      "   0 1 0 \n",
      "    1 0 \n",
      "     0 \n",
      "    1 0 \n",
      "   0 1 0 \n",
      "  1 0 1 0 \n",
      " 0 1 0 1 0 \n"
     ]
    }
   ],
   "source": [
    "size=5\n",
    "for i in range(size,0,-1):\n",
    "    print(\" \"*(size-i),end=\" \") #single space  at beginning\n",
    "    for j in range(1,i+1):\n",
    "        print((i+j)%2,end=\" \")\n",
    "    print()\n",
    "for i in range(2,size+1):\n",
    "    print(\" \"*(size-i),end=\" \") #single space  at beginning\n",
    "    for j in range(1,i+1):\n",
    "        print((i+j)%2,end=\" \")\n",
    "    print()    \n",
    "    "
   ]
  }
 ],
 "metadata": {
  "kernelspec": {
   "display_name": "Python 3",
   "language": "python",
   "name": "python3"
  },
  "language_info": {
   "codemirror_mode": {
    "name": "ipython",
    "version": 3
   },
   "file_extension": ".py",
   "mimetype": "text/x-python",
   "name": "python",
   "nbconvert_exporter": "python",
   "pygments_lexer": "ipython3",
   "version": "3.11.7"
  }
 },
 "nbformat": 4,
 "nbformat_minor": 5
}
