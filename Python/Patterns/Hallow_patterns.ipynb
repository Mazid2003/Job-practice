{
 "cells": [
  {
   "cell_type": "markdown",
   "id": "8e6f823a",
   "metadata": {},
   "source": [
    "# Hallow Patterns using python"
   ]
  },
  {
   "cell_type": "code",
   "execution_count": 1,
   "id": "fea7bd0b",
   "metadata": {},
   "outputs": [
    {
     "name": "stdout",
     "output_type": "stream",
     "text": [
      "     *\n",
      "    * *\n",
      "   *   *\n",
      "  *     *\n",
      " *       *\n"
     ]
    }
   ],
   "source": [
    "size=5\n",
    "for i in range(1,size+1):\n",
    "    print(\" \"*(size-i),end=\" \")\n",
    "    for j in range(1,2*i):\n",
    "        if j==1 or j==2*i-1:\n",
    "            print(\"*\",end=\"\")\n",
    "        else:\n",
    "            print(\" \",end=\"\")\n",
    "    print()"
   ]
  },
  {
   "cell_type": "code",
   "execution_count": 2,
   "id": "5ec7ea8c",
   "metadata": {},
   "outputs": [
    {
     "name": "stdout",
     "output_type": "stream",
     "text": [
      " *       *\n",
      "  *     *\n",
      "   *   *\n",
      "    * *\n",
      "     *\n"
     ]
    }
   ],
   "source": [
    "size=5\n",
    "for i in range(size,0,-1):\n",
    "    print(\" \"*(size-i),end=\" \")\n",
    "    for j in range(1,2*i):\n",
    "        if j==1 or j==2*i-1:\n",
    "            print(\"*\",end=\"\")\n",
    "        else:\n",
    "            print(\" \",end=\"\")\n",
    "    print()"
   ]
  },
  {
   "cell_type": "code",
   "execution_count": 3,
   "id": "6756c786",
   "metadata": {},
   "outputs": [
    {
     "name": "stdout",
     "output_type": "stream",
     "text": [
      "     *\n",
      "    * *\n",
      "   *   *\n",
      "  *     *\n",
      " *       *\n",
      "  *     *\n",
      "   *   *\n",
      "    * *\n",
      "     *\n"
     ]
    }
   ],
   "source": [
    "size=5\n",
    "for i in range(1,size+1):\n",
    "    print(\" \"*(size-i),end=\" \")\n",
    "    for j in range(1,2*i):\n",
    "        if j==1 or j==2*i-1:\n",
    "            print(\"*\",end=\"\")\n",
    "        else:\n",
    "            print(\" \",end=\"\")\n",
    "    print()  \n",
    "for i in range(size-1,0,-1):\n",
    "    print(\" \"*(size-i),end=\" \")\n",
    "    for j in range(1,2*i):\n",
    "        if j==1 or j==2*i-1:\n",
    "            print(\"*\",end=\"\")\n",
    "        else:\n",
    "            print(\" \",end=\"\")\n",
    "    print() "
   ]
  },
  {
   "cell_type": "code",
   "execution_count": 4,
   "id": "4cdb9141",
   "metadata": {},
   "outputs": [
    {
     "name": "stdout",
     "output_type": "stream",
     "text": [
      "*       * \n",
      "  *   *   \n",
      "    *     \n",
      "  *   *   \n",
      "*       * \n"
     ]
    }
   ],
   "source": [
    "size=5\n",
    "for i in range(size):\n",
    "    for j in range(size):\n",
    "        if i==j or j==size-1-i:\n",
    "            print(\"*\",end=\" \")\n",
    "        else:\n",
    "            print(\" \",end=\" \")  \n",
    "    print()"
   ]
  },
  {
   "cell_type": "code",
   "execution_count": 5,
   "id": "12ecc969",
   "metadata": {},
   "outputs": [
    {
     "name": "stdout",
     "output_type": "stream",
     "text": [
      "     *\n",
      "    * *\n",
      "   *   *\n",
      "  *     *\n",
      " *********\n"
     ]
    }
   ],
   "source": [
    "size=5\n",
    "for i in range(1,size+1):\n",
    "    print(\" \"*(size-i),end=\" \")\n",
    "    for j in range(1,2*i):\n",
    "        if j==1 or j==2*i-1 or i==size:\n",
    "            print(\"*\",end=\"\")\n",
    "        else:\n",
    "            print(\" \",end=\"\")\n",
    "    print()"
   ]
  },
  {
   "cell_type": "code",
   "execution_count": 6,
   "id": "e401aada",
   "metadata": {},
   "outputs": [
    {
     "name": "stdout",
     "output_type": "stream",
     "text": [
      " *********\n",
      "  *     *\n",
      "   *   *\n",
      "    * *\n",
      "     *\n"
     ]
    }
   ],
   "source": [
    "size=5\n",
    "for i in range(size,0,-1):\n",
    "    print(\" \"*(size-i),end=\" \")\n",
    "    for j in range(1,2*i):\n",
    "        if j==1 or j==2*i-1 or i==size:\n",
    "            print(\"*\",end=\"\")\n",
    "        else:\n",
    "            print(\" \", end=\"\")    \n",
    "    print()"
   ]
  },
  {
   "cell_type": "code",
   "execution_count": 7,
   "id": "a252ffdf",
   "metadata": {},
   "outputs": [
    {
     "name": "stdout",
     "output_type": "stream",
     "text": [
      " *********\n",
      "  *     *\n",
      "   *   *\n",
      "    * *\n",
      "     *\n",
      "    * *\n",
      "   *   *\n",
      "  *     *\n",
      " *********\n"
     ]
    }
   ],
   "source": [
    "\n",
    "size=5\n",
    "for i in range(size,1,-1):\n",
    "    print(\" \"*(size-i),end=\" \")\n",
    "    for j in range(1,2*i):\n",
    "        if j==1 or j==2*i-1 or i==size:\n",
    "            print(\"*\",end=\"\")\n",
    "        else:\n",
    "            print(\" \",end=\"\")\n",
    "    print()     \n",
    "for i in range(1,size+1):\n",
    "    print(\" \"*(size-i),end=\" \")\n",
    "    for j in range(1,2*i):\n",
    "        if j==1 or j==2*i-1 or i==size:\n",
    "            print(\"*\",end=\"\")\n",
    "        else:\n",
    "            print(\" \",end=\"\")\n",
    "    print()                       "
   ]
  },
  {
   "cell_type": "code",
   "execution_count": 8,
   "id": "bcf42665",
   "metadata": {},
   "outputs": [
    {
     "name": "stdout",
     "output_type": "stream",
     "text": [
      "* * * * * * \n",
      "*         * \n",
      "*         * \n",
      "*         * \n",
      "*         * \n",
      "* * * * * * \n"
     ]
    }
   ],
   "source": [
    "rows = 5\n",
    "# columns = 5\n",
    "\n",
    "for i in range(rows+1):\n",
    "    for j in range(rows+1):\n",
    "        if i == 0 or i==rows or j==0 or j==rows:\n",
    "            print(\"*\", end=\" \")\n",
    "        else:\n",
    "            print(\" \", end=\" \")\n",
    "    print()"
   ]
  }
 ],
 "metadata": {
  "kernelspec": {
   "display_name": "Python 3",
   "language": "python",
   "name": "python3"
  },
  "language_info": {
   "codemirror_mode": {
    "name": "ipython",
    "version": 3
   },
   "file_extension": ".py",
   "mimetype": "text/x-python",
   "name": "python",
   "nbconvert_exporter": "python",
   "pygments_lexer": "ipython3",
   "version": "3.11.7"
  }
 },
 "nbformat": 4,
 "nbformat_minor": 5
}
