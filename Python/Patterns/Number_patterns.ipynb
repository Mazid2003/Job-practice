{
 "cells": [
  {
   "cell_type": "markdown",
   "id": "662ea9f4",
   "metadata": {},
   "source": [
    "# Patterns using Incrementing Numbers"
   ]
  },
  {
   "cell_type": "code",
   "execution_count": 1,
   "id": "33092372",
   "metadata": {},
   "outputs": [
    {
     "name": "stdout",
     "output_type": "stream",
     "text": [
      " 1 \n",
      " 2  3 \n",
      " 4  5  6 \n",
      " 7  8  9 10 \n",
      "11 12 13 14 15 \n"
     ]
    }
   ],
   "source": [
    "size=5\n",
    "num=1\n",
    "for i in range(1,size+1):\n",
    "    for j in range(1,i+1):\n",
    "        print(f\"{num:2d}\",end=\" \")\n",
    "        num+=1\n",
    "    print()"
   ]
  },
  {
   "cell_type": "code",
   "execution_count": 2,
   "id": "aaf39511",
   "metadata": {},
   "outputs": [
    {
     "name": "stdout",
     "output_type": "stream",
     "text": [
      " 1  2  3  4  5 \n",
      " 6  7  8  9 \n",
      "10 11 12 \n",
      "13 14 \n",
      "15 \n"
     ]
    }
   ],
   "source": [
    "size=5\n",
    "num=1\n",
    "for i in range(size,0,-1):\n",
    "    for j in range(1,i+1):\n",
    "        print(f\"{num:2d}\",end=\" \")\n",
    "        num+=1\n",
    "    print() "
   ]
  },
  {
   "cell_type": "code",
   "execution_count": 22,
   "id": "605e6934",
   "metadata": {},
   "outputs": [
    {
     "name": "stdout",
     "output_type": "stream",
     "text": [
      " 1 \n",
      " 2  3 \n",
      " 4  5  6 \n",
      " 7  8  9 10 \n",
      "11 12 13 14 15 \n",
      "16 17 18 19 \n",
      "20 21 22 \n",
      "23 24 \n",
      "25 \n"
     ]
    }
   ],
   "source": [
    "size=5\n",
    "num=1\n",
    "for i in range(1,size+1):\n",
    "    for j in range(1,i+1):\n",
    "        print(f\"{num:2d}\",end=\" \")\n",
    "        num+=1\n",
    "    print()\n",
    "for i in range(size-1,0,-1):\n",
    "    for j in range(1,i+1):\n",
    "        print(f\"{num:2d}\",end=\" \")\n",
    "        num+=1\n",
    "    print()            "
   ]
  },
  {
   "cell_type": "code",
   "execution_count": 37,
   "id": "67eea341",
   "metadata": {},
   "outputs": [
    {
     "name": "stdout",
     "output_type": "stream",
     "text": [
      " 1  2  3  4  5 \n",
      " 6  7  8  9 \n",
      "10 11 12 \n",
      "13 14 \n",
      "15 \n",
      "16 17 \n",
      "18 19 20 \n",
      "21 22 23 24 \n",
      "25 26 27 28 29 \n"
     ]
    }
   ],
   "source": [
    "size=5\n",
    "num=1\n",
    "for i in range(size,0,-1):\n",
    "    for j in range(1,i+1):\n",
    "        print(f\"{num:2d}\",end=\" \")\n",
    "        num+=1\n",
    "    print()\n",
    "for i in range(2,size+1):\n",
    "    for j in range(1,i+1):\n",
    "        print(f\"{num:2d}\",end=\" \")\n",
    "        num+=1\n",
    "    print()            "
   ]
  },
  {
   "cell_type": "code",
   "execution_count": 28,
   "id": "7e5826f8",
   "metadata": {},
   "outputs": [
    {
     "name": "stdout",
     "output_type": "stream",
     "text": [
      "             1 \n",
      "          2  3 \n",
      "       4  5  6 \n",
      "    7  8  9 10 \n",
      "11 12 13 14 15 \n"
     ]
    }
   ],
   "source": [
    "size = 5\n",
    "num = 1\n",
    "for i in range(1, size + 1):\n",
    "    # Print leading spaces for right alignment (3 spaces per missing column)\n",
    "    print(\"   \" * (size - i), end=\"\")\n",
    "    # Print numbers with consistent spacing\n",
    "    for j in range(1,i+1):\n",
    "        print(f\"{num:2d} \", end=\"\")  # :2d gives uniform width\n",
    "        num += 1\n",
    "    print()  "
   ]
  },
  {
   "cell_type": "code",
   "execution_count": 9,
   "id": "658a573a",
   "metadata": {},
   "outputs": [
    {
     "name": "stdout",
     "output_type": "stream",
     "text": [
      " 1  2  3  4  5 \n",
      "    6  7  8  9 \n",
      "      10 11 12 \n",
      "         13 14 \n",
      "            15 \n"
     ]
    }
   ],
   "source": [
    "size=5\n",
    "num=1\n",
    "for i in range(size,0,-1):\n",
    "    print(\"   \" * (size-i),end=\"\")\n",
    "    for j in range(1,i+1):\n",
    "        print(f\"{num:2d} \",end=\"\")\n",
    "        num+=1\n",
    "    print() "
   ]
  },
  {
   "cell_type": "code",
   "execution_count": 33,
   "id": "4740b51c",
   "metadata": {},
   "outputs": [
    {
     "name": "stdout",
     "output_type": "stream",
     "text": [
      "             1 \n",
      "          2  3 \n",
      "       4  5  6 \n",
      "    7  8  9 10 \n",
      "11 12 13 14 15 \n",
      "   16 17 18 19 \n",
      "      20 21 22 \n",
      "         23 24 \n",
      "            25 \n"
     ]
    }
   ],
   "source": [
    "size=5\n",
    "num=1\n",
    "for i in range(1,size+1):\n",
    "    print(\"   \" * (size-i),end=\"\")\n",
    "    for j in range(1,i+1):\n",
    "        print(f\"{num:2d} \",end=\"\")\n",
    "        num+=1\n",
    "    print()\n",
    "for i in range(size-1,0,-1):\n",
    "    print(\"   \"*(size-i),end=\"\")\n",
    "    for j in range(1,i+1):\n",
    "        print(f\"{num:2d} \",end=\"\")\n",
    "        num+=1\n",
    "    print()            "
   ]
  },
  {
   "cell_type": "code",
   "execution_count": null,
   "id": "7606e283",
   "metadata": {},
   "outputs": [
    {
     "name": "stdout",
     "output_type": "stream",
     "text": [
      " 1  2  3  4  5 \n",
      "    6  7  8  9 \n",
      "      10 11 12 \n",
      "         13 14 \n",
      "            15 \n",
      "         16 17 \n",
      "      18 19 20 \n",
      "   21 22 23 24 \n",
      "25 26 27 28 29 \n"
     ]
    }
   ],
   "source": [
    "size=5\n",
    "num=1\n",
    "for i in range(size,0,-1):\n",
    "    print(\"   \"*(size-i),end=\"\")\n",
    "    for j in range(1,i+1):\n",
    "        print(f\"{num:2d} \",end=\"\")\n",
    "        num+=1\n",
    "    print()    \n",
    "for i in range(2,size+1):\n",
    "    print(\"   \"*(size-i),end=\"\")\n",
    "    for j in range(1,i+1):\n",
    "        print(f\"{num:2d} \",end=\"\")\n",
    "        num+=1\n",
    "    print()    "
   ]
  },
  {
   "cell_type": "code",
   "execution_count": 10,
   "id": "174b35b4",
   "metadata": {},
   "outputs": [
    {
     "name": "stdout",
     "output_type": "stream",
     "text": [
      "1 \n",
      "2 2 \n",
      "3 3 3 \n",
      "4 4 4 4 \n",
      "5 5 5 5 5 \n"
     ]
    }
   ],
   "source": [
    "size=5\n",
    "num=1\n",
    "for i in range(1,size+1):\n",
    "    for j in range(1,i+1):\n",
    "        print(i,end=\" \")\n",
    "        num+=1\n",
    "    print(\"\")"
   ]
  },
  {
   "cell_type": "code",
   "execution_count": 11,
   "id": "3816e676",
   "metadata": {},
   "outputs": [
    {
     "name": "stdout",
     "output_type": "stream",
     "text": [
      "5 5 5 5 5 \n",
      "4 4 4 4 \n",
      "3 3 3 \n",
      "2 2 \n",
      "1 \n"
     ]
    }
   ],
   "source": [
    "size=5\n",
    "num=1\n",
    "for i in range(size,0,-1):\n",
    "    for j in range(1,i+1):\n",
    "        print(i,end=\" \")\n",
    "        num+=1\n",
    "    print(\"\")  "
   ]
  },
  {
   "cell_type": "code",
   "execution_count": 3,
   "id": "9d07b590",
   "metadata": {},
   "outputs": [
    {
     "name": "stdout",
     "output_type": "stream",
     "text": [
      "1 \n",
      "2 2 \n",
      "3 3 3 \n",
      "4 4 4 4 \n",
      "5 5 5 5 5 \n",
      "4 4 4 4  \n",
      "3 3 3  \n",
      "2 2  \n",
      "1  \n"
     ]
    }
   ],
   "source": [
    "size=5\n",
    "num=1\n",
    "for i in range(1,size+1):\n",
    "    for j in range(1,i+1):\n",
    "        print(i,end=\" \")\n",
    "        num+=1\n",
    "    print(\"\")   \n",
    "for i in range(size-1,0,-1):\n",
    "    for j in range(1,i+1):\n",
    "        print(i,end=\" \")\n",
    "        num+=1\n",
    "    print(\" \")         "
   ]
  },
  {
   "cell_type": "code",
   "execution_count": 12,
   "id": "5211a273",
   "metadata": {},
   "outputs": [
    {
     "name": "stdout",
     "output_type": "stream",
     "text": [
      "5 5 5 5 5  \n",
      "4 4 4 4  \n",
      "3 3 3  \n",
      "2 2  \n",
      "1  \n",
      "2 2  \n",
      "3 3 3  \n",
      "4 4 4 4  \n",
      "5 5 5 5 5  \n"
     ]
    }
   ],
   "source": [
    "size=5\n",
    "num=1\n",
    "for i in range(size,0,-1):\n",
    "    for j in range(1,i+1):\n",
    "        print(i,end=\" \") \n",
    "        num+=1\n",
    "    print(\" \")    \n",
    "for i in range(2,size+1):\n",
    "    for j in range(1,i+1):\n",
    "        print(i,end=\" \")\n",
    "        num+=1\n",
    "    print(\" \")        "
   ]
  },
  {
   "cell_type": "code",
   "execution_count": 31,
   "id": "063d6747",
   "metadata": {},
   "outputs": [
    {
     "name": "stdout",
     "output_type": "stream",
     "text": [
      "         1\n",
      "       2 2\n",
      "     3 3 3\n",
      "   4 4 4 4\n",
      " 5 5 5 5 5\n"
     ]
    }
   ],
   "source": [
    "size=5\n",
    "num=1\n",
    "for i in range(1,size+1):\n",
    "    print(\"  \"*(size-i),end=\"\")\n",
    "    for j in range(1,i+1):\n",
    "        print(f\"{i:2d}\",end=\"\")\n",
    "        num+=1\n",
    "    print()    "
   ]
  },
  {
   "cell_type": "code",
   "execution_count": 35,
   "id": "a6072442",
   "metadata": {},
   "outputs": [
    {
     "name": "stdout",
     "output_type": "stream",
     "text": [
      " 5 5 5 5 5\n",
      "   4 4 4 4\n",
      "     3 3 3\n",
      "       2 2\n",
      "         1\n"
     ]
    }
   ],
   "source": [
    "size=5\n",
    "num=1\n",
    "for i in range(size,0,-1):\n",
    "    print(\"  \"*(size-i),end=\"\")\n",
    "    for j in range(1,i+1):\n",
    "        print(f\"{i:2d}\",end=\"\")\n",
    "        num+=1\n",
    "    print()    "
   ]
  },
  {
   "cell_type": "code",
   "execution_count": 43,
   "id": "f6a6b579",
   "metadata": {},
   "outputs": [
    {
     "name": "stdout",
     "output_type": "stream",
     "text": [
      "         1\n",
      "       2 2\n",
      "     3 3 3\n",
      "   4 4 4 4\n",
      " 5 5 5 5 5\n",
      "   4 4 4 4\n",
      "     3 3 3\n",
      "       2 2\n",
      "         1\n"
     ]
    }
   ],
   "source": [
    "size=5\n",
    "num=1\n",
    "for i in range(1,size+1):\n",
    "    print(\"  \"*(size-i),end=\"\")\n",
    "    for j in range(1,i+1):\n",
    "        print(f\"{i:2d}\",end=\"\")\n",
    "        num+=1\n",
    "    print()\n",
    "for i in range(size-1,0,-1):\n",
    "    print(\"  \"*(size-i),end=\"\")\n",
    "    for j in range(1,i+1):\n",
    "        print(f\"{i:2d}\",end=\"\")\n",
    "        num+=1\n",
    "    print()        "
   ]
  },
  {
   "cell_type": "code",
   "execution_count": 44,
   "id": "dd307d27",
   "metadata": {},
   "outputs": [
    {
     "name": "stdout",
     "output_type": "stream",
     "text": [
      " 5 5 5 5 5\n",
      "   4 4 4 4\n",
      "     3 3 3\n",
      "       2 2\n",
      "         1\n",
      "       2 2\n",
      "     3 3 3\n",
      "   4 4 4 4\n",
      " 5 5 5 5 5\n"
     ]
    }
   ],
   "source": [
    "size=5\n",
    "num=1\n",
    "for i in range(size,0,-1):\n",
    "    print(\"  \"*(size-i),end=\"\")\n",
    "    for j in range(1,i+1):\n",
    "        print(f\"{i:2d}\",end=\"\")\n",
    "        num+=1\n",
    "    print()\n",
    "for i in range(2,size+1):\n",
    "    print(\"  \"*(size-i),end=\"\")\n",
    "    for j in range(1,i+1):\n",
    "        print(f\"{i:2d}\",end=\"\")\n",
    "        num+=1\n",
    "    print()            "
   ]
  },
  {
   "cell_type": "code",
   "execution_count": 12,
   "id": "d5287246",
   "metadata": {},
   "outputs": [
    {
     "name": "stdout",
     "output_type": "stream",
     "text": [
      "1 \n",
      "1 2 \n",
      "1 2 3 \n",
      "1 2 3 4 \n",
      "1 2 3 4 5 \n"
     ]
    }
   ],
   "source": [
    "size=5\n",
    "num=1\n",
    "for i in range(1,size+1):\n",
    "    for j in range(1,i+1):\n",
    "        print(j,end=\" \")\n",
    "        num+=1\n",
    "    print(\"\") "
   ]
  },
  {
   "cell_type": "code",
   "execution_count": 13,
   "id": "c015316b",
   "metadata": {},
   "outputs": [
    {
     "name": "stdout",
     "output_type": "stream",
     "text": [
      "1 2 3 4 5 \n",
      "1 2 3 4 \n",
      "1 2 3 \n",
      "1 2 \n",
      "1 \n"
     ]
    }
   ],
   "source": [
    "size=5\n",
    "num=1\n",
    "for i in range(size,0,-1):\n",
    "    for j in range(1,i+1):\n",
    "        print(j,end=\" \")\n",
    "        num+=1\n",
    "    print(\"\") "
   ]
  },
  {
   "cell_type": "code",
   "execution_count": 14,
   "id": "3ab9bae6",
   "metadata": {},
   "outputs": [
    {
     "name": "stdout",
     "output_type": "stream",
     "text": [
      "1  \n",
      "1 2  \n",
      "1 2 3  \n",
      "1 2 3 4  \n",
      "1 2 3 4 5  \n",
      "1 2 3 4  \n",
      "1 2 3  \n",
      "1 2  \n",
      "1  \n"
     ]
    }
   ],
   "source": [
    "size=5\n",
    "num=1\n",
    "for i in range(1,size+1):\n",
    "    for j in range(1,i+1):\n",
    "        print(j,end=\" \")\n",
    "        num+=1\n",
    "    print(\" \")    \n",
    "for i in range(size-1,0,-1):\n",
    "    for j in range(1,i+1):\n",
    "        print(j,end=\" \")\n",
    "        num+=1\n",
    "    print(\" \")        "
   ]
  },
  {
   "cell_type": "code",
   "execution_count": 17,
   "id": "476ea53a",
   "metadata": {},
   "outputs": [
    {
     "name": "stdout",
     "output_type": "stream",
     "text": [
      "1 2 3 4 5  \n",
      "1 2 3 4  \n",
      "1 2 3  \n",
      "1 2  \n",
      "1  \n",
      "1 2  \n",
      "1 2 3  \n",
      "1 2 3 4  \n",
      "1 2 3 4 5  \n"
     ]
    }
   ],
   "source": [
    "size=5\n",
    "num=1\n",
    "for i in range(size,0,-1):\n",
    "    for j in range(1,i+1):\n",
    "        print(j,end=\" \")\n",
    "        num+=1\n",
    "    print(\" \")    \n",
    "for i in range(2,size+1):\n",
    "    for j in range(1,i+1):\n",
    "        print(j,end=\" \")\n",
    "        num+=1\n",
    "    print(\" \")        "
   ]
  },
  {
   "cell_type": "code",
   "execution_count": 36,
   "id": "13313f1b",
   "metadata": {},
   "outputs": [
    {
     "name": "stdout",
     "output_type": "stream",
     "text": [
      "         1  \n",
      "       2   3  \n",
      "     4   5   6  \n",
      "   7   8   9  10  \n",
      "11  12  13  14  15  \n"
     ]
    }
   ],
   "source": [
    "size=5\n",
    "num=1\n",
    "for i in range(1,size+1):\n",
    "    print(\"  \"*(size-i),end=\"\")\n",
    "    for j in range(1,i+1):\n",
    "        print(f\"{num:2d}  \",end=\"\")     \n",
    "        num+=1\n",
    "    print()  "
   ]
  },
  {
   "cell_type": "code",
   "execution_count": 39,
   "id": "9ff5d31c",
   "metadata": {},
   "outputs": [
    {
     "name": "stdout",
     "output_type": "stream",
     "text": [
      " 1   2   3   4   5  \n",
      "   6   7   8   9  \n",
      "    10  11  12  \n",
      "      13  14  \n",
      "        15  \n"
     ]
    }
   ],
   "source": [
    "size=5\n",
    "num=1\n",
    "for i in range(size,0,-1):\n",
    "    print(\"  \"*(size-i),end=\"\")\n",
    "    for j in range(1,i+1):\n",
    "        print(f\"{num:2d}  \",end=\"\")\n",
    "        num+=1\n",
    "    print() "
   ]
  },
  {
   "cell_type": "code",
   "execution_count": 40,
   "id": "85aaf5fa",
   "metadata": {},
   "outputs": [
    {
     "name": "stdout",
     "output_type": "stream",
     "text": [
      "         1   \n",
      "       2   3   \n",
      "     4   5   6   \n",
      "   7   8   9  10   \n",
      "11  12  13  14  15   \n",
      "  16  17  18  19  \n",
      "    20  21  22  \n",
      "      23  24  \n",
      "        25  \n"
     ]
    }
   ],
   "source": [
    "size=5\n",
    "num=1\n",
    "for i in range(1,size+1):\n",
    "    print(\"  \"*(size-i),end=\"\")\n",
    "    for j in range(1,i+1):\n",
    "        print(f\"{num:2d}  \",end=\"\")\n",
    "        num+=1\n",
    "    print(\" \")    \n",
    "for i in range(size-1,0,-1):\n",
    "    print(\"  \"*(size-i),end=\"\")\n",
    "    for j in range(1,i+1):\n",
    "        print(f\"{num:2d}  \",end=\"\")\n",
    "        num+=1\n",
    "    print()        "
   ]
  },
  {
   "cell_type": "code",
   "execution_count": 41,
   "id": "e086b49c",
   "metadata": {},
   "outputs": [
    {
     "name": "stdout",
     "output_type": "stream",
     "text": [
      " 1   2   3   4   5  \n",
      "   6   7   8   9  \n",
      "    10  11  12  \n",
      "      13  14  \n",
      "        15  \n",
      "      16  17  \n",
      "    18  19  20  \n",
      "  21  22  23  24  \n",
      "25  26  27  28  29  \n"
     ]
    }
   ],
   "source": [
    "size=5\n",
    "num=1\n",
    "for i in range(size,0,-1):\n",
    "    print(\"  \"*(size-i),end=\"\")\n",
    "    for j in range(1,i+1):\n",
    "        print(f\"{num:2d}  \",end=\"\")\n",
    "        num+=1\n",
    "    print()\n",
    "for i in range(2,size+1):\n",
    "    print(\"  \"*(size-i),end=\"\")\n",
    "    for j in range(1,i+1):\n",
    "        print(f\"{num:2d}  \",end=\"\")\n",
    "        num+=1\n",
    "    print()            "
   ]
  }
 ],
 "metadata": {
  "kernelspec": {
   "display_name": "Python 3",
   "language": "python",
   "name": "python3"
  },
  "language_info": {
   "codemirror_mode": {
    "name": "ipython",
    "version": 3
   },
   "file_extension": ".py",
   "mimetype": "text/x-python",
   "name": "python",
   "nbconvert_exporter": "python",
   "pygments_lexer": "ipython3",
   "version": "3.11.7"
  }
 },
 "nbformat": 4,
 "nbformat_minor": 5
}
